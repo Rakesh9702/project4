{
 "cells": [
  {
   "cell_type": "code",
   "execution_count": 1,
   "id": "f5698d55-25b9-4381-9fdd-42ecad9405ba",
   "metadata": {},
   "outputs": [],
   "source": [
    "# BASIC IF-ELSE STATEMENT:"
   ]
  },
  {
   "cell_type": "code",
   "execution_count": 2,
   "id": "7e994d0f-fb20-4c0c-8395-2e3367d6504a",
   "metadata": {},
   "outputs": [
    {
     "name": "stdin",
     "output_type": "stream",
     "text": [
      "Enter a number:  8\n"
     ]
    },
    {
     "name": "stdout",
     "output_type": "stream",
     "text": [
      "The number is positive.\n"
     ]
    }
   ],
   "source": [
    "#Q.1. Write a Python program to check if a given number is positive or negative.\n",
    "# Input a number from the user\n",
    "num = float(input(\"Enter a number: \"))\n",
    "\n",
    "# Check if the number is positive, negative, or zero\n",
    "if num > 0:\n",
    "    print(\"The number is positive.\")\n",
    "elif num < 0:\n",
    "    print(\"The number is negative.\")\n",
    "else:\n",
    "    print(\"The number is zero.\")"
   ]
  },
  {
   "cell_type": "code",
   "execution_count": 3,
   "id": "92b76a7f-eb73-447b-bac4-a68bb54ae3da",
   "metadata": {},
   "outputs": [
    {
     "name": "stdin",
     "output_type": "stream",
     "text": [
      "Enter your age:  34\n"
     ]
    },
    {
     "name": "stdout",
     "output_type": "stream",
     "text": [
      "You are eligible to vote.\n"
     ]
    }
   ],
   "source": [
    "#Q.2. Create a program that determines if a person is eligible to vote based on their age.\n",
    "# Input the person's age\n",
    "age = int(input(\"Enter your age: \"))\n",
    "\n",
    "# Check if the person is eligible to vote\n",
    "if age >= 18:\n",
    "    print(\"You are eligible to vote.\")\n",
    "else:\n",
    "    print(\"You are not eligible to vote.\")"
   ]
  },
  {
   "cell_type": "code",
   "execution_count": 4,
   "id": "388f2479-29c2-48a8-988d-981399d19274",
   "metadata": {},
   "outputs": [
    {
     "name": "stdin",
     "output_type": "stream",
     "text": [
      "Enter the first number:  4\n",
      "Enter the second number:  8\n"
     ]
    },
    {
     "name": "stdout",
     "output_type": "stream",
     "text": [
      "The maximum number is: 8.0\n"
     ]
    }
   ],
   "source": [
    "#Q.3. Develop a program to find the maximum of two numbers using if-else statements.\n",
    "# Input two numbers from the user\n",
    "num1 = float(input(\"Enter the first number: \"))\n",
    "num2 = float(input(\"Enter the second number: \"))\n",
    "\n",
    "# Compare the numbers and find the maximum\n",
    "if num1 > num2:\n",
    "    maximum = num1\n",
    "else:\n",
    "    maximum = num2\n",
    "\n",
    "# Print the maximum number\n",
    "print(\"The maximum number is:\", maximum)"
   ]
  },
  {
   "cell_type": "code",
   "execution_count": 5,
   "id": "9cfa7ad7-afde-4494-ac98-05f0287336d7",
   "metadata": {},
   "outputs": [
    {
     "name": "stdin",
     "output_type": "stream",
     "text": [
      "Enter a year:  2002\n"
     ]
    },
    {
     "name": "stdout",
     "output_type": "stream",
     "text": [
      "2002 is not a leap year.\n"
     ]
    }
   ],
   "source": [
    "#Q.4. Write a Python script to classify a given year as a leap year or not.\n",
    "# Input a year from the user\n",
    "year = int(input(\"Enter a year: \"))\n",
    "\n",
    "# Check if it's a leap year\n",
    "if (year % 4 == 0 and year % 100 != 0) or (year % 400 == 0):\n",
    "    print(year, \"is a leap year.\")\n",
    "else:\n",
    "    print(year, \"is not a leap year.\")"
   ]
  },
  {
   "cell_type": "code",
   "execution_count": 6,
   "id": "192b5dcd-e021-43f5-90e4-3fb15c4044c3",
   "metadata": {},
   "outputs": [
    {
     "name": "stdin",
     "output_type": "stream",
     "text": [
      "Enter a character:  d\n"
     ]
    },
    {
     "name": "stdout",
     "output_type": "stream",
     "text": [
      "d is a consonant.\n"
     ]
    }
   ],
   "source": [
    "#Q.5. Create a program that checks whether a character is a vowel or a consonant.\n",
    "# Input a character from the user (assuming single character input)\n",
    "char = input(\"Enter a character: \")\n",
    "\n",
    "# Convert the input character to lowercase for case-insensitive comparison\n",
    "char = char.lower()\n",
    "\n",
    "# Check if the character is a vowel or a consonant\n",
    "if char.isalpha() and len(char) == 1:\n",
    "    if char in 'aeiou':\n",
    "        print(char, \"is a vowel.\")\n",
    "    else:\n",
    "        print(char, \"is a consonant.\")\n",
    "else:\n",
    "    print(\"Invalid input. Please enter a single alphabet character.\")"
   ]
  },
  {
   "cell_type": "code",
   "execution_count": 7,
   "id": "837125fe-cc6c-4093-b837-f90bad2cd21d",
   "metadata": {},
   "outputs": [
    {
     "name": "stdin",
     "output_type": "stream",
     "text": [
      "Enter a number:  67\n"
     ]
    },
    {
     "name": "stdout",
     "output_type": "stream",
     "text": [
      "67 is odd.\n"
     ]
    }
   ],
   "source": [
    "#Q.6. Implement a program to determine whether a given number is even or odd.\n",
    "# Input a number from the user\n",
    "number = int(input(\"Enter a number: \"))\n",
    "\n",
    "# Check if the number is even or odd\n",
    "if number % 2 == 0:\n",
    "    print(number, \"is even.\")\n",
    "else:\n",
    "    print(number, \"is odd.\")"
   ]
  },
  {
   "cell_type": "code",
   "execution_count": 8,
   "id": "34a4eed9-5073-42ba-9b94-b7596761ebce",
   "metadata": {},
   "outputs": [
    {
     "name": "stdin",
     "output_type": "stream",
     "text": [
      "Enter a number:  6\n"
     ]
    },
    {
     "name": "stdout",
     "output_type": "stream",
     "text": [
      "The absolute value of 6.0 is 6.0\n"
     ]
    }
   ],
   "source": [
    "#Q.7. Write a Python function to calculate the absolute value of a number without using the `abs()` function.\n",
    "def absolute_value(number):\n",
    "    if number < 0:\n",
    "        return -number\n",
    "    else:\n",
    "        return number\n",
    "\n",
    "# Test the function\n",
    "num = float(input(\"Enter a number: \"))\n",
    "result = absolute_value(num)\n",
    "print(\"The absolute value of\", num, \"is\", result)"
   ]
  },
  {
   "cell_type": "code",
   "execution_count": 9,
   "id": "adf0e61d-6632-429c-ad5d-b26db449885c",
   "metadata": {},
   "outputs": [
    {
     "name": "stdin",
     "output_type": "stream",
     "text": [
      "Enter the first number:  5\n",
      "Enter the second number:  7\n",
      "Enter the third number:  31\n"
     ]
    },
    {
     "name": "stdout",
     "output_type": "stream",
     "text": [
      "The largest number is: 31.0\n"
     ]
    }
   ],
   "source": [
    "#Q.8. Develop a program that determines the largest of three given numbers using if-else statements.\n",
    "# Input three numbers from the user\n",
    "num1 = float(input(\"Enter the first number: \"))\n",
    "num2 = float(input(\"Enter the second number: \"))\n",
    "num3 = float(input(\"Enter the third number: \"))\n",
    "\n",
    "# Compare the numbers to find the largest\n",
    "if num1 >= num2 and num1 >= num3:\n",
    "    largest = num1\n",
    "elif num2 >= num1 and num2 >= num3:\n",
    "    largest = num2\n",
    "else:\n",
    "    largest = num3\n",
    "\n",
    "# Print the largest number\n",
    "print(\"The largest number is:\", largest)"
   ]
  },
  {
   "cell_type": "code",
   "execution_count": 10,
   "id": "35268021-71a8-4bf4-99b7-416537b2cd99",
   "metadata": {},
   "outputs": [
    {
     "name": "stdin",
     "output_type": "stream",
     "text": [
      "Enter a string:  we all have a good side.\n"
     ]
    },
    {
     "name": "stdout",
     "output_type": "stream",
     "text": [
      "The input string is not a palindrome.\n"
     ]
    }
   ],
   "source": [
    "#Q.9. Create a program that checks if a given string is a palindrome.\n",
    "# Input a string from the user\n",
    "input_string = input(\"Enter a string: \")\n",
    "\n",
    "# Remove spaces and convert to lowercase for case-insensitive comparison\n",
    "cleaned_string = input_string.replace(\" \", \"\").lower()\n",
    "\n",
    "# Check if the cleaned string is equal to its reverse\n",
    "if cleaned_string == cleaned_string[::-1]:\n",
    "    print(\"The input string is a palindrome.\")\n",
    "else:\n",
    "    print(\"The input string is not a palindrome.\")"
   ]
  },
  {
   "cell_type": "code",
   "execution_count": 11,
   "id": "627c0572-e77c-484c-8252-f89b3bfbe95a",
   "metadata": {},
   "outputs": [
    {
     "name": "stdin",
     "output_type": "stream",
     "text": [
      "Enter the student's score:  87\n"
     ]
    },
    {
     "name": "stdout",
     "output_type": "stream",
     "text": [
      "The student's grade is: B\n"
     ]
    }
   ],
   "source": [
    "#Q.10. Write a Python program to calculate the grade based on a student's score.\n",
    "# Input the student's score from the user\n",
    "score = float(input(\"Enter the student's score: \"))\n",
    "\n",
    "# Define grade boundaries and calculate the grade\n",
    "if score >= 90:\n",
    "    grade = 'A'\n",
    "elif score >= 80:\n",
    "    grade = 'B'\n",
    "elif score >= 70:\n",
    "    grade = 'C'\n",
    "elif score >= 60:\n",
    "    grade = 'D'\n",
    "else:\n",
    "    grade = 'F'\n",
    "\n",
    "# Print the calculated grade\n",
    "print(\"The student's grade is:\", grade)"
   ]
  },
  {
   "cell_type": "code",
   "execution_count": 12,
   "id": "d34e83e4-6824-4aec-af6d-453f60033956",
   "metadata": {},
   "outputs": [],
   "source": [
    "# NESTED IF-ELSE STATEMENT:"
   ]
  },
  {
   "cell_type": "code",
   "execution_count": 13,
   "id": "e06f9c73-393c-48a2-a777-4069e4567e1d",
   "metadata": {},
   "outputs": [
    {
     "name": "stdin",
     "output_type": "stream",
     "text": [
      "Enter the first number:  4\n",
      "Enter the second number:  9\n",
      "Enter the third number:  12\n"
     ]
    },
    {
     "name": "stdout",
     "output_type": "stream",
     "text": [
      "The largest number is: 12.0\n"
     ]
    }
   ],
   "source": [
    "#Q.11. Write a program to find the largest among three numbers using nested if-else statements.\n",
    "# Input three numbers from the user\n",
    "num1 = float(input(\"Enter the first number: \"))\n",
    "num2 = float(input(\"Enter the second number: \"))\n",
    "num3 = float(input(\"Enter the third number: \"))\n",
    "\n",
    "# Nested if-else statements to find the largest number\n",
    "if num1 >= num2:\n",
    "    if num1 >= num3:\n",
    "        largest = num1\n",
    "    else:\n",
    "        largest = num3\n",
    "else:\n",
    "    if num2 >= num3:\n",
    "        largest = num2\n",
    "    else:\n",
    "        largest = num3\n",
    "\n",
    "# Print the largest number\n",
    "print(\"The largest number is:\", largest)"
   ]
  },
  {
   "cell_type": "code",
   "execution_count": 14,
   "id": "a98eeac3-0e48-4695-8064-10bc9e2ec672",
   "metadata": {},
   "outputs": [
    {
     "name": "stdin",
     "output_type": "stream",
     "text": [
      "Enter the length of the first side:  14\n",
      "Enter the length of the second side:  24\n",
      "Enter the length of the third side:  15\n"
     ]
    },
    {
     "name": "stdout",
     "output_type": "stream",
     "text": [
      "The triangle is a Scalene triangle.\n"
     ]
    }
   ],
   "source": [
    "#Q.12. Implement a program to determine if a triangle is equilateral, isosceles, or scalene.\n",
    "# Input the lengths of the three sides of the triangle\n",
    "side1 = float(input(\"Enter the length of the first side: \"))\n",
    "side2 = float(input(\"Enter the length of the second side: \"))\n",
    "side3 = float(input(\"Enter the length of the third side: \"))\n",
    "\n",
    "# Check the type of triangle\n",
    "if side1 == side2 == side3:\n",
    "    triangle_type = \"Equilateral\"\n",
    "elif side1 == side2 or side1 == side3 or side2 == side3:\n",
    "    triangle_type = \"Isosceles\"\n",
    "else:\n",
    "    triangle_type = \"Scalene\"\n",
    "\n",
    "# Print the type of triangle\n",
    "print(\"The triangle is a\", triangle_type, \"triangle.\")"
   ]
  },
  {
   "cell_type": "code",
   "execution_count": 15,
   "id": "6a93ae1a-47fa-40ce-b753-0a2a0a38a5ef",
   "metadata": {},
   "outputs": [
    {
     "name": "stdin",
     "output_type": "stream",
     "text": [
      "Enter a year:  2004\n"
     ]
    },
    {
     "name": "stdout",
     "output_type": "stream",
     "text": [
      "2004 is a leap year but not a century year.\n"
     ]
    }
   ],
   "source": [
    "#Q.13. Develop a program that checks if a year is a leap year and also if it is a century year.\n",
    "# Input a year from the user\n",
    "year = int(input(\"Enter a year: \"))\n",
    "\n",
    "# Check if it's a leap year\n",
    "is_leap_year = False\n",
    "\n",
    "if (year % 4 == 0 and year % 100 != 0) or (year % 400 == 0):\n",
    "    is_leap_year = True\n",
    "\n",
    "# Check if it's a century year\n",
    "is_century_year = False\n",
    "\n",
    "if year % 100 == 0:\n",
    "    is_century_year = True\n",
    "\n",
    "# Determine and print the results\n",
    "if is_leap_year and is_century_year:\n",
    "    print(year, \"is a leap year and a century year.\")\n",
    "elif is_leap_year:\n",
    "    print(year, \"is a leap year but not a century year.\")\n",
    "elif is_century_year:\n",
    "    print(year, \"is a century year but not a leap year.\")\n",
    "else:\n",
    "    print(year, \"is neither a leap year nor a century year.\")"
   ]
  },
  {
   "cell_type": "code",
   "execution_count": 16,
   "id": "5b844b9e-6b80-42b3-b56b-3378d034ffa6",
   "metadata": {},
   "outputs": [
    {
     "name": "stdin",
     "output_type": "stream",
     "text": [
      "Enter a number:  23\n"
     ]
    },
    {
     "name": "stdout",
     "output_type": "stream",
     "text": [
      "The number is positive.\n"
     ]
    }
   ],
   "source": [
    "#Q.14. Write a Python script to determine if a number is positive, negative, or zero.\n",
    "# Input a number from the user\n",
    "number = float(input(\"Enter a number: \"))\n",
    "\n",
    "# Check if the number is positive, negative, or zero\n",
    "if number > 0:\n",
    "    print(\"The number is positive.\")\n",
    "elif number < 0:\n",
    "    print(\"The number is negative.\")\n",
    "else:\n",
    "    print(\"The number is zero.\")"
   ]
  },
  {
   "cell_type": "code",
   "execution_count": 17,
   "id": "47db62bd-0081-433a-b0bb-a1738039b61b",
   "metadata": {},
   "outputs": [
    {
     "name": "stdin",
     "output_type": "stream",
     "text": [
      "Enter your age:  23\n"
     ]
    },
    {
     "name": "stdout",
     "output_type": "stream",
     "text": [
      "You are not a teenager.\n"
     ]
    }
   ],
   "source": [
    "#Q.15. Create a program to check if a person is a teenager (between 13 and 19 years old).\n",
    "# Input the person's age from the user\n",
    "age = int(input(\"Enter your age: \"))\n",
    "\n",
    "# Check if the person is a teenager\n",
    "if 13 <= age <= 19:\n",
    "    print(\"You are a teenager.\")\n",
    "else:\n",
    "    print(\"You are not a teenager.\")"
   ]
  },
  {
   "cell_type": "code",
   "execution_count": 18,
   "id": "fb0aaa3b-480b-46bf-b3d7-bbf4af3c871a",
   "metadata": {},
   "outputs": [
    {
     "name": "stdin",
     "output_type": "stream",
     "text": [
      "Enter the angle measure (in degrees):  60\n"
     ]
    },
    {
     "name": "stdout",
     "output_type": "stream",
     "text": [
      "The angle is Acute.\n"
     ]
    }
   ],
   "source": [
    "#Q.16. Develop a program that determines the type of angle based on its measure (acute, obtuse, or right).\n",
    "# Input the angle measure from the user\n",
    "angle = float(input(\"Enter the angle measure (in degrees): \"))\n",
    "\n",
    "# Check the type of angle\n",
    "if angle > 0 and angle < 90:\n",
    "    angle_type = \"Acute\"\n",
    "elif angle == 90:\n",
    "    angle_type = \"Right\"\n",
    "elif angle > 90 and angle < 180:\n",
    "    angle_type = \"Obtuse\"\n",
    "else:\n",
    "    angle_type = \"Invalid\"\n",
    "\n",
    "# Print the type of angle\n",
    "if angle_type == \"Invalid\":\n",
    "    print(\"Invalid angle measure. Please enter a valid angle measure between 0 and 180 degrees.\")\n",
    "else:\n",
    "    print(f\"The angle is {angle_type}.\")"
   ]
  },
  {
   "cell_type": "code",
   "execution_count": 19,
   "id": "fc62df15-b188-4dfd-9ea2-7ce295ed98ae",
   "metadata": {},
   "outputs": [
    {
     "name": "stdin",
     "output_type": "stream",
     "text": [
      "Enter the coefficient 'a':  4\n",
      "Enter the coefficient 'b':  7\n",
      "Enter the coefficient 'c':  3\n"
     ]
    },
    {
     "name": "stdout",
     "output_type": "stream",
     "text": [
      "The roots are real and different: -0.75 and -1.0\n"
     ]
    }
   ],
   "source": [
    "#Q.17. Write a Python program to calculate the roots of a quadratic equation.#Q.\n",
    "import math\n",
    "\n",
    "# Input the coefficients of the quadratic equation (a, b, and c)\n",
    "a = float(input(\"Enter the coefficient 'a': \"))\n",
    "b = float(input(\"Enter the coefficient 'b': \"))\n",
    "c = float(input(\"Enter the coefficient 'c': \"))\n",
    "\n",
    "# Calculate the discriminant\n",
    "discriminant = b**2 - 4*a*c\n",
    "\n",
    "# Check the type of roots and calculate them\n",
    "if discriminant > 0:\n",
    "    root1 = (-b + math.sqrt(discriminant)) / (2*a)\n",
    "    root2 = (-b - math.sqrt(discriminant)) / (2*a)\n",
    "    print(f\"The roots are real and different: {root1} and {root2}\")\n",
    "elif discriminant == 0:\n",
    "    root1 = -b / (2*a)\n",
    "    print(f\"The root is real and equal: {root1}\")\n",
    "else:\n",
    "    real_part = -b / (2*a)\n",
    "    imaginary_part = math.sqrt(abs(discriminant)) / (2*a)\n",
    "    print(f\"The roots are complex: {real_part} + {imaginary_part}i and {real_part} - {imaginary_part}i\")"
   ]
  },
  {
   "cell_type": "code",
   "execution_count": 20,
   "id": "8e5e03fd-beb9-4d2c-969c-b41aede9563c",
   "metadata": {},
   "outputs": [
    {
     "name": "stdin",
     "output_type": "stream",
     "text": [
      "Enter a number (1-7) to find the day of the week:  5\n"
     ]
    },
    {
     "name": "stdout",
     "output_type": "stream",
     "text": [
      "The day corresponding to 5 is Friday.\n"
     ]
    }
   ],
   "source": [
    "#Q.18. Implement a program to determine the day of the week based on a user-provided number (1 for Monday, 2 for Tuesday, etc.).\n",
    "# Define a dictionary to map numbers to days of the week\n",
    "days_of_week = {\n",
    "    1: \"Monday\",\n",
    "    2: \"Tuesday\",\n",
    "    3: \"Wednesday\",\n",
    "    4: \"Thursday\",\n",
    "    5: \"Friday\",\n",
    "    6: \"Saturday\",\n",
    "    7: \"Sunday\"\n",
    "}\n",
    "\n",
    "# Input a number from the user\n",
    "number = int(input(\"Enter a number (1-7) to find the day of the week: \"))\n",
    "\n",
    "# Check if the number is within the valid range\n",
    "if 1 <= number <= 7:\n",
    "    day = days_of_week[number]\n",
    "    print(f\"The day corresponding to {number} is {day}.\")\n",
    "else:\n",
    "    print(\"Invalid input. Please enter a number between 1 and 7.\")"
   ]
  },
  {
   "cell_type": "code",
   "execution_count": 21,
   "id": "733794cb-f58b-4a7d-9887-b8315c55626b",
   "metadata": {},
   "outputs": [
    {
     "name": "stdin",
     "output_type": "stream",
     "text": [
      "Enter a year:  2007\n"
     ]
    },
    {
     "name": "stdout",
     "output_type": "stream",
     "text": [
      "2007 is not a leap year.\n"
     ]
    }
   ],
   "source": [
    "#Q.19. Create a program that determines if a year is a leap year and also if it is evenly divisible by 400.\n",
    "# Input a year from the user\n",
    "year = int(input(\"Enter a year: \"))\n",
    "\n",
    "# Check if it's a leap year (divisible by 4 and not divisible by 100, or divisible by 400)\n",
    "is_leap_year = (year % 4 == 0 and year % 100 != 0) or (year % 400 == 0)\n",
    "\n",
    "# Determine and print the results\n",
    "if is_leap_year:\n",
    "    print(year, \"is a leap year.\")\n",
    "else:\n",
    "    print(year, \"is not a leap year.\")"
   ]
  },
  {
   "cell_type": "code",
   "execution_count": 22,
   "id": "27978300-67b7-425a-ab60-d6f40941e036",
   "metadata": {},
   "outputs": [
    {
     "name": "stdin",
     "output_type": "stream",
     "text": [
      "Enter a number:  6\n"
     ]
    },
    {
     "name": "stdout",
     "output_type": "stream",
     "text": [
      "6 is not a prime number.\n"
     ]
    }
   ],
   "source": [
    "#Q.20. Develop a program that checks if a given number is prime or not using nested if-else statements.\n",
    "# Input a number from the user\n",
    "num = int(input(\"Enter a number: \"))\n",
    "\n",
    "# Check if it's a prime number\n",
    "if num <= 1:\n",
    "    is_prime = False\n",
    "else:\n",
    "    is_prime = True\n",
    "    for i in range(2, int(num ** 0.5) + 1):\n",
    "        if num % i == 0:\n",
    "            is_prime = False\n",
    "            break\n",
    "\n",
    "# Determine and print the result\n",
    "if is_prime:\n",
    "    print(num, \"is a prime number.\")\n",
    "else:\n",
    "    print(num, \"is not a prime number.\")"
   ]
  },
  {
   "cell_type": "code",
   "execution_count": 23,
   "id": "7e6f9d91-fef5-464f-8e16-0b33efcfe5a9",
   "metadata": {},
   "outputs": [],
   "source": [
    "# ELIF STATEMENT:"
   ]
  },
  {
   "cell_type": "code",
   "execution_count": 24,
   "id": "308939dc-25c3-4f95-beb2-8467a745dc0e",
   "metadata": {},
   "outputs": [
    {
     "name": "stdin",
     "output_type": "stream",
     "text": [
      "Enter the student's score:  68\n"
     ]
    },
    {
     "name": "stdout",
     "output_type": "stream",
     "text": [
      "The student's grade is: D\n"
     ]
    }
   ],
   "source": [
    "#Q.21. Write a Python program to assign grades based on different ranges of scores using elif statements.\n",
    "# Input the student's score from the user\n",
    "score = float(input(\"Enter the student's score: \"))\n",
    "\n",
    "# Assign grades based on score ranges\n",
    "if score >= 90:\n",
    "    grade = 'A'\n",
    "elif score >= 80:\n",
    "    grade = 'B'\n",
    "elif score >= 70:\n",
    "    grade = 'C'\n",
    "elif score >= 60:\n",
    "    grade = 'D'\n",
    "else:\n",
    "    grade = 'F'\n",
    "\n",
    "# Print the assigned grade\n",
    "print(f\"The student's grade is: {grade}\")"
   ]
  },
  {
   "cell_type": "code",
   "execution_count": 25,
   "id": "c8a7d501-e97a-4bba-ad75-bec096e93323",
   "metadata": {},
   "outputs": [
    {
     "name": "stdin",
     "output_type": "stream",
     "text": [
      "Enter the first angle (in degrees):  45\n",
      "Enter the second angle (in degrees):  30\n",
      "Enter the third angle (in degrees):  90\n"
     ]
    },
    {
     "name": "stdout",
     "output_type": "stream",
     "text": [
      "These angles do not form a valid triangle.\n"
     ]
    }
   ],
   "source": [
    "#Q.22. Implement a program to determine the type of a triangle based on its angles.\n",
    "# Input the angles of the triangle from the user\n",
    "angle1 = float(input(\"Enter the first angle (in degrees): \"))\n",
    "angle2 = float(input(\"Enter the second angle (in degrees): \"))\n",
    "angle3 = float(input(\"Enter the third angle (in degrees): \"))\n",
    "\n",
    "# Check the type of triangle based on angles\n",
    "if angle1 + angle2 + angle3 == 180:\n",
    "    if angle1 < 90 and angle2 < 90 and angle3 < 90:\n",
    "        triangle_type = \"Acute\"\n",
    "    elif angle1 == 90 or angle2 == 90 or angle3 == 90:\n",
    "        triangle_type = \"Right\"\n",
    "    else:\n",
    "        triangle_type = \"Obtuse\"\n",
    "    print(f\"The triangle is a {triangle_type} triangle.\")\n",
    "else:\n",
    "    print(\"These angles do not form a valid triangle.\")"
   ]
  },
  {
   "cell_type": "code",
   "execution_count": 26,
   "id": "c97d6757-f84e-47fd-80c2-46e64c005fb4",
   "metadata": {},
   "outputs": [
    {
     "name": "stdin",
     "output_type": "stream",
     "text": [
      "Enter your weight in kilograms:  67\n",
      "Enter your height in meters:  30\n"
     ]
    },
    {
     "name": "stdout",
     "output_type": "stream",
     "text": [
      "Your BMI is 0.07, which falls into the category of Underweight.\n"
     ]
    }
   ],
   "source": [
    "#Q.23. Develop a program to categorize a given person's BMI into underweight, normal, overweight, or obese using elif statements.\n",
    "# Input the person's weight in kilograms and height in meters\n",
    "weight_kg = float(input(\"Enter your weight in kilograms: \"))\n",
    "height_m = float(input(\"Enter your height in meters: \"))\n",
    "\n",
    "# Calculate BMI\n",
    "bmi = weight_kg / (height_m ** 2)\n",
    "\n",
    "# Categorize BMI using elif statements\n",
    "if bmi < 18.5:\n",
    "    category = \"Underweight\"\n",
    "elif 18.5 <= bmi < 24.9:\n",
    "    category = \"Normal Weight\"\n",
    "elif 24.9 <= bmi < 29.9:\n",
    "    category = \"Overweight\"\n",
    "else:\n",
    "    category = \"Obese\"\n",
    "\n",
    "# Print the BMI category\n",
    "print(f\"Your BMI is {bmi:.2f}, which falls into the category of {category}.\")"
   ]
  },
  {
   "cell_type": "code",
   "execution_count": 27,
   "id": "c41eb729-6d16-4c3d-9f0a-8da4f149191e",
   "metadata": {},
   "outputs": [
    {
     "name": "stdin",
     "output_type": "stream",
     "text": [
      "Enter a number:  45\n"
     ]
    },
    {
     "name": "stdout",
     "output_type": "stream",
     "text": [
      "The number is positive.\n"
     ]
    }
   ],
   "source": [
    "#Q.24. Create a program that determines whether a given number is positive, negative, or zero using elif statements.\n",
    "# Input a number from the user\n",
    "number = float(input(\"Enter a number: \"))\n",
    "\n",
    "# Determine if the number is positive, negative, or zero using elif statements\n",
    "if number > 0:\n",
    "    print(\"The number is positive.\")\n",
    "elif number < 0:\n",
    "    print(\"The number is negative.\")\n",
    "else:\n",
    "    print(\"The number is zero.\")"
   ]
  },
  {
   "cell_type": "code",
   "execution_count": 28,
   "id": "172f3bde-5b37-4c80-afda-a3ae63d179c9",
   "metadata": {},
   "outputs": [
    {
     "name": "stdin",
     "output_type": "stream",
     "text": [
      "Enter a character:  e\n"
     ]
    },
    {
     "name": "stdout",
     "output_type": "stream",
     "text": [
      "The character is lowercase.\n"
     ]
    }
   ],
   "source": [
    "#Q.25. Write a Python script to determine the type of a character (uppercase, lowercase, or special) using elif statements.\n",
    "# Input a character from the user\n",
    "character = input(\"Enter a character: \")\n",
    "\n",
    "# Check the type of character using elif statements\n",
    "if character.isalpha():\n",
    "    if character.islower():\n",
    "        print(\"The character is lowercase.\")\n",
    "    elif character.isupper():\n",
    "        print(\"The character is uppercase.\")\n",
    "else:\n",
    "    print(\"The character is special.\")"
   ]
  },
  {
   "cell_type": "code",
   "execution_count": 29,
   "id": "a8b8b613-b281-46c0-bc39-2a2e705aa1fa",
   "metadata": {},
   "outputs": [
    {
     "name": "stdin",
     "output_type": "stream",
     "text": [
      "Enter the purchase amount:  4500\n"
     ]
    },
    {
     "name": "stdout",
     "output_type": "stream",
     "text": [
      "The discounted price is: $4050.00\n"
     ]
    }
   ],
   "source": [
    "#Q.26. Implement a program to calculate the discounted price based on different purchase amounts using elif statements.\n",
    "# Input the purchase amount from the user\n",
    "purchase_amount = float(input(\"Enter the purchase amount: \"))\n",
    "\n",
    "# Calculate the discounted price based on different purchase amounts using elif statements\n",
    "discount = 0  # Default discount is zero\n",
    "\n",
    "if purchase_amount >= 1000:\n",
    "    discount = 0.1  # 10% discount for purchase amount >= 1000\n",
    "elif purchase_amount >= 500:\n",
    "    discount = 0.05  # 5% discount for purchase amount >= 500\n",
    "\n",
    "# Calculate the final price after applying the discount\n",
    "discounted_price = purchase_amount - (purchase_amount * discount)\n",
    "\n",
    "# Print the discounted price\n",
    "print(f\"The discounted price is: ${discounted_price:.2f}\")\n"
   ]
  },
  {
   "cell_type": "code",
   "execution_count": 30,
   "id": "db61633b-27d8-4b07-bc83-f686c8844b0d",
   "metadata": {},
   "outputs": [
    {
     "name": "stdin",
     "output_type": "stream",
     "text": [
      "Enter your electricity consumption in kWh:  45\n"
     ]
    },
    {
     "name": "stdout",
     "output_type": "stream",
     "text": [
      "Your electricity bill is: $6.75\n"
     ]
    }
   ],
   "source": [
    "#Q.27. Develop a program to calculate the electricity bill based on different consumption slabs using elif statements.\n",
    "# Input the electricity consumption in kilowatt-hours (kWh) from the user\n",
    "consumption = float(input(\"Enter your electricity consumption in kWh: \"))\n",
    "\n",
    "# Define electricity rate slabs\n",
    "slab1_limit = 100  # kWh\n",
    "slab2_limit = 200  # kWh\n",
    "slab3_limit = 300  # kWh\n",
    "\n",
    "# Define electricity rates for each slab\n",
    "rate_slab1 = 0.15  # $/kWh\n",
    "rate_slab2 = 0.20  # $/kWh\n",
    "rate_slab3 = 0.25  # $/kWh\n",
    "\n",
    "# Calculate the electricity bill based on consumption slabs using elif statements\n",
    "if consumption <= slab1_limit:\n",
    "    bill = consumption * rate_slab1\n",
    "elif consumption <= slab2_limit:\n",
    "    bill = (slab1_limit * rate_slab1) + ((consumption - slab1_limit) * rate_slab2)\n",
    "elif consumption <= slab3_limit:\n",
    "    bill = (slab1_limit * rate_slab1) + ((slab2_limit - slab1_limit) * rate_slab2) + ((consumption - slab2_limit) * rate_slab3)\n",
    "else:\n",
    "    # For consumption above slab3_limit, a different rate may apply\n",
    "    bill = (slab1_limit * rate_slab1) + ((slab2_limit - slab1_limit) * rate_slab2) + ((slab3_limit - slab2_limit) * rate_slab3) + ((consumption - slab3_limit) * another_rate)\n",
    "\n",
    "# Print the electricity bill\n",
    "print(f\"Your electricity bill is: ${bill:.2f}\")"
   ]
  },
  {
   "cell_type": "code",
   "execution_count": 31,
   "id": "8251166f-c2af-46be-a481-a6c3176aa9b5",
   "metadata": {},
   "outputs": [
    {
     "name": "stdin",
     "output_type": "stream",
     "text": [
      "Enter the length of the first side:  23\n",
      "Enter the length of the second side:  33\n",
      "Enter the length of the third side:  23\n",
      "Enter the length of the fourth side:  33\n",
      "Enter the measure of the first angle (in degrees):  45\n",
      "Enter the measure of the second angle (in degrees):  45\n",
      "Enter the measure of the third angle (in degrees):  45\n",
      "Enter the measure of the fourth angle (in degrees):  45\n"
     ]
    },
    {
     "name": "stdout",
     "output_type": "stream",
     "text": [
      "The quadrilateral is a Parallelogram.\n"
     ]
    }
   ],
   "source": [
    "#Q.28. Create a program to determine the type of quadrilateral based on its angles and sides using elif statements.\n",
    "# Input the lengths of the four sides of the quadrilateral\n",
    "side1 = float(input(\"Enter the length of the first side: \"))\n",
    "side2 = float(input(\"Enter the length of the second side: \"))\n",
    "side3 = float(input(\"Enter the length of the third side: \"))\n",
    "side4 = float(input(\"Enter the length of the fourth side: \"))\n",
    "\n",
    "# Input the measures of the four angles of the quadrilateral\n",
    "angle1 = float(input(\"Enter the measure of the first angle (in degrees): \"))\n",
    "angle2 = float(input(\"Enter the measure of the second angle (in degrees): \"))\n",
    "angle3 = float(input(\"Enter the measure of the third angle (in degrees): \"))\n",
    "angle4 = float(input(\"Enter the measure of the fourth angle (in degrees): \"))\n",
    "\n",
    "# Determine the type of quadrilateral using elif statements\n",
    "if (side1 == side2 == side3 == side4) and (angle1 == angle2 == angle3 == angle4 == 90):\n",
    "    quadrilateral_type = \"Square\"\n",
    "elif (side1 == side2 == side3 == side4) and (angle1 == angle2 == angle3 == angle4):\n",
    "    quadrilateral_type = \"Rhombus\"\n",
    "elif (side1 == side3) and (side2 == side4):\n",
    "    if (angle1 == angle2 == 90) and (angle3 == angle4 == 90):\n",
    "        quadrilateral_type = \"Rectangle\"\n",
    "    elif (angle1 == angle3) and (angle2 == angle4):\n",
    "        quadrilateral_type = \"Parallelogram\"\n",
    "    else:\n",
    "        quadrilateral_type = \"Quadrilateral\"\n",
    "else:\n",
    "    quadrilateral_type = \"Quadrilateral\"\n",
    "\n",
    "# Print the type of quadrilateral\n",
    "print(f\"The quadrilateral is a {quadrilateral_type}.\")"
   ]
  },
  {
   "cell_type": "code",
   "execution_count": 32,
   "id": "6f8466bb-15e3-4952-9436-193ad593030b",
   "metadata": {},
   "outputs": [
    {
     "name": "stdin",
     "output_type": "stream",
     "text": [
      "Enter the name of a month:  august\n"
     ]
    },
    {
     "name": "stdout",
     "output_type": "stream",
     "text": [
      "The season for August is Summer.\n"
     ]
    }
   ],
   "source": [
    "#Q.29. Write a Python script to determine the season based on a user-provided month using elif statements.\n",
    "# Input the month from the user\n",
    "month = input(\"Enter the name of a month: \")\n",
    "\n",
    "# Convert the input to lowercase for case-insensitive comparison\n",
    "month = month.lower()\n",
    "\n",
    "# Determine the season using elif statements\n",
    "if month in [\"december\", \"january\", \"february\"]:\n",
    "    season = \"Winter\"\n",
    "elif month in [\"march\", \"april\", \"may\"]:\n",
    "    season = \"Spring\"\n",
    "elif month in [\"june\", \"july\", \"august\"]:\n",
    "    season = \"Summer\"\n",
    "elif month in [\"september\", \"october\", \"november\"]:\n",
    "    season = \"Autumn (Fall)\"\n",
    "else:\n",
    "    season = \"Invalid Month\"\n",
    "\n",
    "# Print the determined season\n",
    "print(f\"The season for {month.capitalize()} is {season}.\")"
   ]
  },
  {
   "cell_type": "code",
   "execution_count": 33,
   "id": "cdf768f2-9c68-46df-bab2-7012ad2e6120",
   "metadata": {},
   "outputs": [
    {
     "name": "stdin",
     "output_type": "stream",
     "text": [
      "Enter a year:  2008\n",
      "Enter a month (e.g., January, February, etc.):  august\n"
     ]
    },
    {
     "name": "stdout",
     "output_type": "stream",
     "text": [
      "The year 2008 is a Leap year.\n",
      "August has 31 days.\n"
     ]
    }
   ],
   "source": [
    "#Q.30. Implement a program to determine the type of a year (leap or common) and month (30 or 31 days) using elif statements.\n",
    "# Input a year and month from the user\n",
    "year = int(input(\"Enter a year: \"))\n",
    "month = input(\"Enter a month (e.g., January, February, etc.): \")\n",
    "\n",
    "# Convert the month input to lowercase for case-insensitive comparison\n",
    "month = month.lower()\n",
    "\n",
    "# Determine if it's a leap year using elif statements\n",
    "if (year % 4 == 0 and year % 100 != 0) or (year % 400 == 0):\n",
    "    year_type = \"Leap\"\n",
    "else:\n",
    "    year_type = \"Common\"\n",
    "\n",
    "# Determine the number of days in the month using elif statements\n",
    "if month in [\"january\", \"march\", \"may\", \"july\", \"august\", \"october\", \"december\"]:\n",
    "    days_in_month = 31\n",
    "elif month in [\"april\", \"june\", \"september\", \"november\"]:\n",
    "    days_in_month = 30\n",
    "elif month == \"february\":\n",
    "    if year_type == \"Leap\":\n",
    "        days_in_month = 29\n",
    "    else:\n",
    "        days_in_month = 28\n",
    "else:\n",
    "    days_in_month = \"Invalid Month\"\n",
    "\n",
    "# Print the determined year type and number of days in the month\n",
    "print(f\"The year {year} is a {year_type} year.\")\n",
    "print(f\"{month.capitalize()} has {days_in_month} days.\")"
   ]
  },
  {
   "cell_type": "code",
   "execution_count": 34,
   "id": "0342ffb2-75d8-4ab3-a3bf-f89e86847216",
   "metadata": {},
   "outputs": [],
   "source": [
    "# BASIC LEVEL"
   ]
  },
  {
   "cell_type": "code",
   "execution_count": 35,
   "id": "98fb5682-0c95-42d5-9b51-ef5c5bdaedaa",
   "metadata": {},
   "outputs": [
    {
     "name": "stdin",
     "output_type": "stream",
     "text": [
      "Enter a number:  45\n"
     ]
    },
    {
     "name": "stdout",
     "output_type": "stream",
     "text": [
      "The number is positive.\n"
     ]
    }
   ],
   "source": [
    "#Q.1. Write a Python program that checks if a given number is positive, negative, or zero.\n",
    "# Input a number from the user\n",
    "number = float(input(\"Enter a number: \"))\n",
    "\n",
    "# Check if the number is positive, negative, or zero\n",
    "if number > 0:\n",
    "    print(\"The number is positive.\")\n",
    "elif number < 0:\n",
    "    print(\"The number is negative.\")\n",
    "else:\n",
    "    print(\"The number is zero.\")"
   ]
  },
  {
   "cell_type": "code",
   "execution_count": 36,
   "id": "572db3d2-ec30-4f98-aedc-5f85f80f8a4d",
   "metadata": {},
   "outputs": [
    {
     "name": "stdin",
     "output_type": "stream",
     "text": [
      "Enter your age:  24\n"
     ]
    },
    {
     "name": "stdout",
     "output_type": "stream",
     "text": [
      "You are eligible to vote.\n"
     ]
    }
   ],
   "source": [
    "#Q.2. Create a program to determine if a person is eligible to vote based on their age.\n",
    "# Input the person's age from the user\n",
    "age = int(input(\"Enter your age: \"))\n",
    "\n",
    "# Check if the person is eligible to vote\n",
    "if age >= 18:\n",
    "    print(\"You are eligible to vote.\")\n",
    "else:\n",
    "    print(\"You are not eligible to vote.\")"
   ]
  },
  {
   "cell_type": "code",
   "execution_count": 37,
   "id": "181c5bef-7684-45c2-8bfd-85b8ebb702e7",
   "metadata": {},
   "outputs": [
    {
     "name": "stdin",
     "output_type": "stream",
     "text": [
      "Enter the first number:  9\n",
      "Enter the second number:  5\n"
     ]
    },
    {
     "name": "stdout",
     "output_type": "stream",
     "text": [
      "The maximum number is: 9.0\n"
     ]
    }
   ],
   "source": [
    "#Q.3. Write a program to find the maximum of two given numbers using conditional statements.\n",
    "# Input two numbers from the user\n",
    "num1 = float(input(\"Enter the first number: \"))\n",
    "num2 = float(input(\"Enter the second number: \"))\n",
    "\n",
    "# Find the maximum using a conditional statement\n",
    "if num1 > num2:\n",
    "    maximum = num1\n",
    "else:\n",
    "    maximum = num2\n",
    "\n",
    "# Print the maximum number\n",
    "print(f\"The maximum number is: {maximum}\")"
   ]
  },
  {
   "cell_type": "code",
   "execution_count": 38,
   "id": "b60f832b-daa7-4248-a3c6-a8ad3fc8cfba",
   "metadata": {},
   "outputs": [
    {
     "name": "stdin",
     "output_type": "stream",
     "text": [
      "Enter the student's exam score:  90\n"
     ]
    },
    {
     "name": "stdout",
     "output_type": "stream",
     "text": [
      "The student's grade is: A\n"
     ]
    }
   ],
   "source": [
    "#Q.4. Develop a program that calculates the grade of a student based on their exam score.\n",
    "# Input the exam score from the user\n",
    "score = float(input(\"Enter the student's exam score: \"))\n",
    "\n",
    "# Determine the grade based on the score\n",
    "if score >= 90:\n",
    "    grade = \"A\"\n",
    "elif score >= 80:\n",
    "    grade = \"B\"\n",
    "elif score >= 70:\n",
    "    grade = \"C\"\n",
    "elif score >= 60:\n",
    "    grade = \"D\"\n",
    "else:\n",
    "    grade = \"F\"\n",
    "\n",
    "# Print the assigned grade\n",
    "print(f\"The student's grade is: {grade}\")"
   ]
  },
  {
   "cell_type": "code",
   "execution_count": 39,
   "id": "7c71343b-c8ba-4cac-80cf-d0a7d39b9334",
   "metadata": {},
   "outputs": [
    {
     "name": "stdin",
     "output_type": "stream",
     "text": [
      "Enter a year:  2034\n"
     ]
    },
    {
     "name": "stdout",
     "output_type": "stream",
     "text": [
      "2034 is not a leap year.\n"
     ]
    }
   ],
   "source": [
    "#Q.5. Create a program that checks if a year is a leap year or not.\n",
    "# Input a year from the user\n",
    "year = int(input(\"Enter a year: \"))\n",
    "\n",
    "# Check if it's a leap year\n",
    "if (year % 4 == 0 and year % 100 != 0) or (year % 400 == 0):\n",
    "    print(year, \"is a leap year.\")\n",
    "else:\n",
    "    print(year, \"is not a leap year.\")"
   ]
  },
  {
   "cell_type": "code",
   "execution_count": 40,
   "id": "c773b63b-5a92-416a-af18-f984fb0d2fbc",
   "metadata": {},
   "outputs": [
    {
     "name": "stdin",
     "output_type": "stream",
     "text": [
      "Enter the length of the first side:  25\n",
      "Enter the length of the second side:  27\n",
      "Enter the length of the third side:  30\n"
     ]
    },
    {
     "name": "stdout",
     "output_type": "stream",
     "text": [
      "The triangle is classified as: Scalene triangle.\n"
     ]
    }
   ],
   "source": [
    "#Q.6. Write a program to classify a triangle based on its sides' lengths.\n",
    "# Input the lengths of the three sides of the triangle from the user\n",
    "side1 = float(input(\"Enter the length of the first side: \"))\n",
    "side2 = float(input(\"Enter the length of the second side: \"))\n",
    "side3 = float(input(\"Enter the length of the third side: \"))\n",
    "\n",
    "# Check and classify the triangle based on side lengths\n",
    "if side1 == side2 == side3:\n",
    "    triangle_type = \"Equilateral\"\n",
    "elif side1 == side2 or side1 == side3 or side2 == side3:\n",
    "    triangle_type = \"Isosceles\"\n",
    "else:\n",
    "    triangle_type = \"Scalene\"\n",
    "\n",
    "# Print the classification of the triangle\n",
    "print(f\"The triangle is classified as: {triangle_type} triangle.\")"
   ]
  },
  {
   "cell_type": "code",
   "execution_count": 41,
   "id": "433416ee-1e88-45d1-92ca-994d19511bd6",
   "metadata": {},
   "outputs": [
    {
     "name": "stdin",
     "output_type": "stream",
     "text": [
      "Enter the first number:  15\n",
      "Enter the second number:  25\n",
      "Enter the third number:  34\n"
     ]
    },
    {
     "name": "stdout",
     "output_type": "stream",
     "text": [
      "The largest number is: 34.0\n"
     ]
    }
   ],
   "source": [
    "#Q.7. Build a program that determines the largest of three given numbers.\n",
    "# Input three numbers from the user\n",
    "num1 = float(input(\"Enter the first number: \"))\n",
    "num2 = float(input(\"Enter the second number: \"))\n",
    "num3 = float(input(\"Enter the third number: \"))\n",
    "\n",
    "# Determine the largest number using conditional statements\n",
    "if num1 >= num2 and num1 >= num3:\n",
    "    largest = num1\n",
    "elif num2 >= num1 and num2 >= num3:\n",
    "    largest = num2\n",
    "else:\n",
    "    largest = num3\n",
    "\n",
    "# Print the largest number\n",
    "print(f\"The largest number is: {largest}\")"
   ]
  },
  {
   "cell_type": "code",
   "execution_count": 42,
   "id": "f3f15ae4-4e11-4b3c-bf34-6c94ff75be07",
   "metadata": {},
   "outputs": [
    {
     "name": "stdin",
     "output_type": "stream",
     "text": [
      "Enter a character:  e\n"
     ]
    },
    {
     "name": "stdout",
     "output_type": "stream",
     "text": [
      "The character is a vowel.\n"
     ]
    }
   ],
   "source": [
    "#Q.8. Develop a program that checks whether a character is a vowel or a consonant.\n",
    "# Input a character from the user (assuming it's a single character)\n",
    "char = input(\"Enter a character: \")\n",
    "\n",
    "# Convert the character to lowercase for case-insensitive comparison\n",
    "char = char.lower()\n",
    "\n",
    "# Check if the character is a vowel or a consonant\n",
    "if char == 'a' or char == 'e' or char == 'i' or char == 'o' or char == 'u':\n",
    "    print(\"The character is a vowel.\")\n",
    "else:\n",
    "    print(\"The character is a consonant.\")"
   ]
  },
  {
   "cell_type": "code",
   "execution_count": 43,
   "id": "c6b4a946-e283-4591-bcdd-69df7f5b1fae",
   "metadata": {},
   "outputs": [
    {
     "name": "stdin",
     "output_type": "stream",
     "text": [
      "Enter the quantity of Item 1:  4\n",
      "Enter the quantity of Item 2:  6\n",
      "Enter the quantity of Item 3:  9\n"
     ]
    },
    {
     "name": "stdout",
     "output_type": "stream",
     "text": [
      "Item 1 cost: $40.00\n",
      "Item 2 cost: $30.00\n",
      "Item 3 cost: $67.50\n",
      "Total cost before discount: $137.50\n",
      "Discount applied: $13.75\n",
      "Final total cost: $123.75\n"
     ]
    }
   ],
   "source": [
    "#Q.9. Create a program to calculate the total cost of a shopping cart based on discounts.\n",
    "# Define the prices and quantities of items in the shopping cart\n",
    "item1_price = 10.0\n",
    "item1_quantity = int(input(\"Enter the quantity of Item 1: \"))\n",
    "\n",
    "item2_price = 5.0\n",
    "item2_quantity = int(input(\"Enter the quantity of Item 2: \"))\n",
    "\n",
    "item3_price = 7.5\n",
    "item3_quantity = int(input(\"Enter the quantity of Item 3: \"))\n",
    "\n",
    "# Calculate the cost of each item\n",
    "item1_cost = item1_price * item1_quantity\n",
    "item2_cost = item2_price * item2_quantity\n",
    "item3_cost = item3_price * item3_quantity\n",
    "\n",
    "# Calculate the total cost before discounts\n",
    "total_cost = item1_cost + item2_cost + item3_cost\n",
    "\n",
    "# Apply discounts based on total cost\n",
    "if total_cost >= 50.0:\n",
    "    discount = 0.1 * total_cost  # 10% discount for total cost >= $50\n",
    "else:\n",
    "    discount = 0.0\n",
    "\n",
    "# Calculate the final total cost after applying the discount\n",
    "final_total_cost = total_cost - discount\n",
    "\n",
    "# Print the costs and discounts\n",
    "print(f\"Item 1 cost: ${item1_cost:.2f}\")\n",
    "print(f\"Item 2 cost: ${item2_cost:.2f}\")\n",
    "print(f\"Item 3 cost: ${item3_cost:.2f}\")\n",
    "print(f\"Total cost before discount: ${total_cost:.2f}\")\n",
    "print(f\"Discount applied: ${discount:.2f}\")\n",
    "print(f\"Final total cost: ${final_total_cost:.2f}\")"
   ]
  },
  {
   "cell_type": "code",
   "execution_count": 44,
   "id": "df26a0dd-afcc-44ef-9f29-10530738f1c9",
   "metadata": {},
   "outputs": [
    {
     "name": "stdin",
     "output_type": "stream",
     "text": [
      "Enter a number:  34\n"
     ]
    },
    {
     "name": "stdout",
     "output_type": "stream",
     "text": [
      "34 is even.\n"
     ]
    }
   ],
   "source": [
    "#Q.10. Write a program that checks if a given number is even or odd.\n",
    "# Input a number from the user\n",
    "number = int(input(\"Enter a number: \"))\n",
    "\n",
    "# Check if the number is even or odd\n",
    "if number % 2 == 0:\n",
    "    print(f\"{number} is even.\")\n",
    "else:\n",
    "    print(f\"{number} is odd.\")"
   ]
  },
  {
   "cell_type": "code",
   "execution_count": 45,
   "id": "0b8a9920-cb60-49e8-b84a-201176b13023",
   "metadata": {},
   "outputs": [],
   "source": [
    "# INTERMEDIATE LEVEL:"
   ]
  },
  {
   "cell_type": "code",
   "execution_count": 46,
   "id": "fbd6600f-3759-425e-ad4c-b7a38d878911",
   "metadata": {},
   "outputs": [
    {
     "name": "stdin",
     "output_type": "stream",
     "text": [
      "Enter the coefficient a:  5\n",
      "Enter the coefficient b:  7\n",
      "Enter the coefficient c:  8\n"
     ]
    },
    {
     "name": "stdout",
     "output_type": "stream",
     "text": [
      "The roots are complex: (-0.7+1.0535653752852738j) and (-0.7-1.0535653752852738j)\n"
     ]
    }
   ],
   "source": [
    "#Q.11. Write a program that calculates the roots of a quadratic equation .\n",
    "import math\n",
    "\n",
    "# Input the coefficients of the quadratic equation from the user\n",
    "a = float(input(\"Enter the coefficient a: \"))\n",
    "b = float(input(\"Enter the coefficient b: \"))\n",
    "c = float(input(\"Enter the coefficient c: \"))\n",
    "\n",
    "# Calculate the discriminant (the value inside the square root)\n",
    "discriminant = b**2 - 4*a*c\n",
    "\n",
    "# Check the discriminant to determine the nature of the roots\n",
    "if discriminant > 0:\n",
    "    # Two real and distinct roots\n",
    "    root1 = (-b + math.sqrt(discriminant)) / (2*a)\n",
    "    root2 = (-b - math.sqrt(discriminant)) / (2*a)\n",
    "    print(f\"The roots are real and distinct: {root1} and {root2}\")\n",
    "elif discriminant == 0:\n",
    "    # One real root (a repeated root)\n",
    "    root1 = -b / (2*a)\n",
    "    print(f\"There is one real root: {root1}\")\n",
    "else:\n",
    "    # Complex roots\n",
    "    real_part = -b / (2*a)\n",
    "    imaginary_part = math.sqrt(-discriminant) / (2*a)\n",
    "    root1 = complex(real_part, imaginary_part)\n",
    "    root2 = complex(real_part, -imaginary_part)\n",
    "    print(f\"The roots are complex: {root1} and {root2}\")"
   ]
  },
  {
   "cell_type": "code",
   "execution_count": 47,
   "id": "b3e54114-356f-49c4-a8d7-cf52ef169b9b",
   "metadata": {},
   "outputs": [
    {
     "name": "stdin",
     "output_type": "stream",
     "text": [
      "Enter a day number (1-7):  6\n"
     ]
    },
    {
     "name": "stdout",
     "output_type": "stream",
     "text": [
      "Day 6 is Saturday.\n"
     ]
    }
   ],
   "source": [
    "#Q.12. Create a program that determines the day of the week based on the day number (1-7).\n",
    "# Input the day number from the user (1-7)\n",
    "day_number = int(input(\"Enter a day number (1-7): \"))\n",
    "\n",
    "# Determine the day of the week based on the day number\n",
    "if day_number == 1:\n",
    "    day = \"Monday\"\n",
    "elif day_number == 2:\n",
    "    day = \"Tuesday\"\n",
    "elif day_number == 3:\n",
    "    day = \"Wednesday\"\n",
    "elif day_number == 4:\n",
    "    day = \"Thursday\"\n",
    "elif day_number == 5:\n",
    "    day = \"Friday\"\n",
    "elif day_number == 6:\n",
    "    day = \"Saturday\"\n",
    "elif day_number == 7:\n",
    "    day = \"Sunday\"\n",
    "else:\n",
    "    day = \"Invalid day number\"\n",
    "\n",
    "# Print the day of the week\n",
    "print(f\"Day {day_number} is {day}.\")"
   ]
  },
  {
   "cell_type": "code",
   "execution_count": 48,
   "id": "3c49e34c-f504-46d7-8b19-661cf96d6f17",
   "metadata": {},
   "outputs": [
    {
     "name": "stdin",
     "output_type": "stream",
     "text": [
      "Enter a non-negative integer:  5\n"
     ]
    },
    {
     "name": "stdout",
     "output_type": "stream",
     "text": [
      "5! = 120\n"
     ]
    }
   ],
   "source": [
    "#Q.13. Develop a program that calculates the factorial of a given number using recursion.\n",
    "# Recursive function to calculate the factorial of a number\n",
    "def factorial(n):\n",
    "    if n == 0:\n",
    "        return 1  # Base case: 0! = 1\n",
    "    else:\n",
    "        return n * factorial(n - 1)  # Recursive case: n! = n * (n-1)!\n",
    "\n",
    "# Input a non-negative integer from the user\n",
    "while True:\n",
    "    try:\n",
    "        num = int(input(\"Enter a non-negative integer: \"))\n",
    "        if num >= 0:\n",
    "            break\n",
    "        else:\n",
    "            print(\"Please enter a non-negative integer.\")\n",
    "    except ValueError:\n",
    "        print(\"Invalid input. Please enter a non-negative integer.\")\n",
    "\n",
    "# Calculate the factorial using the recursive function\n",
    "result = factorial(num)\n",
    "\n",
    "# Print the result\n",
    "print(f\"{num}! = {result}\")"
   ]
  },
  {
   "cell_type": "code",
   "execution_count": 49,
   "id": "b91e0604-f02b-45b3-b9ed-aea332c77ce2",
   "metadata": {},
   "outputs": [
    {
     "name": "stdin",
     "output_type": "stream",
     "text": [
      "Enter the first number:  67\n",
      "Enter the second number:  45\n",
      "Enter the third number:  35\n"
     ]
    },
    {
     "name": "stdout",
     "output_type": "stream",
     "text": [
      "The largest number is: 67.0\n"
     ]
    }
   ],
   "source": [
    "#Q.14. Write a program to find the largest among three numbers without using the `max()` function.\n",
    "# Input three numbers from the user\n",
    "num1 = float(input(\"Enter the first number: \"))\n",
    "num2 = float(input(\"Enter the second number: \"))\n",
    "num3 = float(input(\"Enter the third number: \"))\n",
    "\n",
    "# Initialize a variable to store the largest number\n",
    "largest = num1  # Assume num1 is the largest initially\n",
    "\n",
    "# Check and update the largest number using conditional statements\n",
    "if num2 > largest:\n",
    "    largest = num2\n",
    "if num3 > largest:\n",
    "    largest = num3\n",
    "\n",
    "# Print the largest number\n",
    "print(f\"The largest number is: {largest}\")"
   ]
  },
  {
   "cell_type": "code",
   "execution_count": 50,
   "id": "2d11764b-643a-4f8d-b8e7-bf0573d53731",
   "metadata": {},
   "outputs": [
    {
     "name": "stdout",
     "output_type": "stream",
     "text": [
      "\n",
      "ATM Menu:\n",
      "1. Check Balance\n",
      "2. Deposit Money\n",
      "3. Withdraw Money\n",
      "4. Exit\n"
     ]
    },
    {
     "name": "stdin",
     "output_type": "stream",
     "text": [
      "\n",
      "Enter your choice (1/2/3/4):  4\n"
     ]
    },
    {
     "name": "stdout",
     "output_type": "stream",
     "text": [
      "Thank you for using the ATM. Have a nice day!\n"
     ]
    }
   ],
   "source": [
    "#Q.15. Create a program that simulates a basic ATM transaction menu.\n",
    "# Initialize the account balance\n",
    "balance = 1000.0  # Initial balance\n",
    "\n",
    "# Function to display the ATM menu\n",
    "def display_menu():\n",
    "    print(\"\\nATM Menu:\")\n",
    "    print(\"1. Check Balance\")\n",
    "    print(\"2. Deposit Money\")\n",
    "    print(\"3. Withdraw Money\")\n",
    "    print(\"4. Exit\")\n",
    "\n",
    "# Display the ATM menu initially\n",
    "display_menu()\n",
    "\n",
    "# Main loop for ATM transactions\n",
    "while True:\n",
    "    # Input the user's choice\n",
    "    choice = input(\"\\nEnter your choice (1/2/3/4): \")\n",
    "\n",
    "    if choice == '1':\n",
    "        # Check Balance\n",
    "        print(f\"Your account balance is ${balance:.2f}\")\n",
    "    elif choice == '2':\n",
    "        # Deposit Money\n",
    "        amount = float(input(\"Enter the deposit amount: $\"))\n",
    "        balance += amount\n",
    "        print(f\"${amount:.2f} has been deposited. Your new balance is ${balance:.2f}\")\n",
    "    elif choice == '3':\n",
    "        # Withdraw Money\n",
    "        amount = float(input(\"Enter the withdrawal amount: $\"))\n",
    "        if amount > balance:\n",
    "            print(\"Insufficient funds. Withdrawal canceled.\")\n",
    "        else:\n",
    "            balance -= amount\n",
    "            print(f\"${amount:.2f} has been withdrawn. Your new balance is ${balance:.2f}\")\n",
    "    elif choice == '4':\n",
    "        # Exit\n",
    "        print(\"Thank you for using the ATM. Have a nice day!\")\n",
    "        break\n",
    "    else:\n",
    "        # Invalid choice\n",
    "        print(\"Invalid choice. Please select a valid option.\")\n",
    "\n",
    "# End of the program"
   ]
  },
  {
   "cell_type": "code",
   "execution_count": 51,
   "id": "a7412549-8a5d-4827-8586-8dcdc5a3189c",
   "metadata": {},
   "outputs": [
    {
     "name": "stdin",
     "output_type": "stream",
     "text": [
      "Enter a string:  we are best\n"
     ]
    },
    {
     "name": "stdout",
     "output_type": "stream",
     "text": [
      "'we are best' is not a palindrome.\n"
     ]
    }
   ],
   "source": [
    "#Q.16. Build a program that checks if a given string is a palindrome or not.\n",
    "# Function to check if a string is a palindrome\n",
    "def is_palindrome(input_string):\n",
    "    # Remove spaces and convert to lowercase for case-insensitive comparison\n",
    "    cleaned_string = input_string.replace(\" \", \"\").lower()\n",
    "    # Reverse the string\n",
    "    reversed_string = cleaned_string[::-1]\n",
    "    # Compare the original and reversed strings\n",
    "    return cleaned_string == reversed_string\n",
    "\n",
    "# Input a string from the user\n",
    "user_string = input(\"Enter a string: \")\n",
    "\n",
    "# Check if the input string is a palindrome\n",
    "if is_palindrome(user_string):\n",
    "    print(f\"'{user_string}' is a palindrome.\")\n",
    "else:\n",
    "    print(f\"'{user_string}' is not a palindrome.\")"
   ]
  },
  {
   "cell_type": "code",
   "execution_count": 54,
   "id": "3ce8d54b-9d54-4de3-b162-deb999ec7502",
   "metadata": {},
   "outputs": [
    {
     "name": "stdin",
     "output_type": "stream",
     "text": [
      "Enter a list of numbers separated by spaces:  5 7 8\n"
     ]
    },
    {
     "name": "stdout",
     "output_type": "stream",
     "text": [
      "The average (excluding smallest and largest) is: 7.00\n"
     ]
    }
   ],
   "source": [
    "#Q.17. Write a program that calculates the average of a list of numbers, excluding the smallest and largest values.\n",
    "# Function to calculate the average, excluding the smallest and largest values\n",
    "def calculate_average(numbers):\n",
    "    if len(numbers) < 3:\n",
    "        return \"Insufficient data to calculate the average.\"\n",
    "\n",
    "    # Remove the smallest and largest values\n",
    "    numbers.remove(min(numbers))\n",
    "    numbers.remove(max(numbers))\n",
    "\n",
    "    # Calculate the sum of the remaining values\n",
    "    total = sum(numbers)\n",
    "\n",
    "    # Calculate the average\n",
    "    average = total / len(numbers)\n",
    "    return average\n",
    "\n",
    "# Input a list of numbers from the user\n",
    "try:\n",
    "    input_numbers = input(\"Enter a list of numbers separated by spaces: \").split()\n",
    "    numbers = [float(x) for x in input_numbers]\n",
    "\n",
    "    # Calculate the average, excluding the smallest and largest values\n",
    "    result = calculate_average(numbers)\n",
    "\n",
    "    if isinstance(result, float):\n",
    "        print(f\"The average (excluding smallest and largest) is: {result:.2f}\")\n",
    "    else:\n",
    "        print(result)\n",
    "except ValueError:\n",
    "    print(\"Invalid input. Please enter a list of numbers separated by spaces.\")"
   ]
  },
  {
   "cell_type": "code",
   "execution_count": 55,
   "id": "f974eea4-ce2d-4c0d-9163-b4cf98b5853f",
   "metadata": {},
   "outputs": [
    {
     "name": "stdin",
     "output_type": "stream",
     "text": [
      "Enter temperature in Celsius:  45\n"
     ]
    },
    {
     "name": "stdout",
     "output_type": "stream",
     "text": [
      "45.0 degrees Celsius is equal to 113.0 degrees Fahrenheit.\n"
     ]
    }
   ],
   "source": [
    "#Q.18. Develop a program that converts a given temperature from Celsius to Fahrenheit.\n",
    "# Input temperature in Celsius from the user\n",
    "celsius = float(input(\"Enter temperature in Celsius: \"))\n",
    "\n",
    "# Convert Celsius to Fahrenheit\n",
    "fahrenheit = (celsius * 9/5) + 32\n",
    "\n",
    "# Display the result\n",
    "print(f\"{celsius} degrees Celsius is equal to {fahrenheit} degrees Fahrenheit.\")"
   ]
  },
  {
   "cell_type": "code",
   "execution_count": 56,
   "id": "e640156a-7087-4724-b3b3-c5eb16088d67",
   "metadata": {},
   "outputs": [
    {
     "name": "stdout",
     "output_type": "stream",
     "text": [
      "Select operation:\n",
      "1. Addition\n",
      "2. Subtraction\n",
      "3. Multiplication\n",
      "4. Division\n"
     ]
    },
    {
     "name": "stdin",
     "output_type": "stream",
     "text": [
      "Enter choice (1/2/3/4):  3\n",
      "Enter first number:  12\n",
      "Enter second number:  23\n"
     ]
    },
    {
     "name": "stdout",
     "output_type": "stream",
     "text": [
      "12.0 * 23.0 = 276.0\n"
     ]
    }
   ],
   "source": [
    "#Q.19. Create a program that simulates a basic calculator for addition, subtraction, multiplication, and division.\n",
    "# Function to perform addition\n",
    "def add(x, y):\n",
    "    return x + y\n",
    "\n",
    "# Function to perform subtraction\n",
    "def subtract(x, y):\n",
    "    return x - y\n",
    "\n",
    "# Function to perform multiplication\n",
    "def multiply(x, y):\n",
    "    return x * y\n",
    "\n",
    "# Function to perform division\n",
    "def divide(x, y):\n",
    "    if y == 0:\n",
    "        return \"Division by zero is not allowed.\"\n",
    "    return x / y\n",
    "\n",
    "# Display the calculator menu\n",
    "print(\"Select operation:\")\n",
    "print(\"1. Addition\")\n",
    "print(\"2. Subtraction\")\n",
    "print(\"3. Multiplication\")\n",
    "print(\"4. Division\")\n",
    "\n",
    "# Input choice from the user\n",
    "choice = input(\"Enter choice (1/2/3/4): \")\n",
    "\n",
    "# Input two numbers from the user\n",
    "num1 = float(input(\"Enter first number: \"))\n",
    "num2 = float(input(\"Enter second number: \"))\n",
    "\n",
    "# Perform the selected operation and display the result\n",
    "if choice == '1':\n",
    "    result = add(num1, num2)\n",
    "    print(f\"{num1} + {num2} = {result}\")\n",
    "elif choice == '2':\n",
    "    result = subtract(num1, num2)\n",
    "    print(f\"{num1} - {num2} = {result}\")\n",
    "elif choice == '3':\n",
    "    result = multiply(num1, num2)\n",
    "    print(f\"{num1} * {num2} = {result}\")\n",
    "elif choice == '4':\n",
    "    result = divide(num1, num2)\n",
    "    if isinstance(result, str):\n",
    "        print(result)\n",
    "    else:\n",
    "        print(f\"{num1} / {num2} = {result}\")\n",
    "else:\n",
    "    print(\"Invalid input. Please select a valid operation (1/2/3/4).\")"
   ]
  },
  {
   "cell_type": "code",
   "execution_count": 57,
   "id": "2e3ed490-6dfe-41b5-ae39-9b3a5ef9d7d6",
   "metadata": {},
   "outputs": [
    {
     "name": "stdin",
     "output_type": "stream",
     "text": [
      "Enter coefficient a:  5\n",
      "Enter coefficient b:  7\n",
      "Enter coefficient c:  7\n",
      "Enter coefficient d:  8\n"
     ]
    },
    {
     "name": "stdout",
     "output_type": "stream",
     "text": [
      "Roots of the cubic equation:\n",
      "Root 1: 0.295831+0.910779j\n",
      "Root 2: -1.636673-0.204953j\n",
      "Root 3: -0.059158-0.705826j\n"
     ]
    }
   ],
   "source": [
    "#Q.20. Write a program that determines the roots of a cubic equation using the Cardano formula.\n",
    "import math\n",
    "\n",
    "# Function to find the roots of a cubic equation using the Cardano formula\n",
    "def cubic_roots(a, b, c, d):\n",
    "    # Calculate some intermediate values\n",
    "    p = c / a - (b ** 2) / (3 * (a ** 2))\n",
    "    q = (2 * (b ** 3)) / (27 * (a ** 3)) - (b * c) / (3 * (a ** 2)) + d / a\n",
    "    delta = (q ** 2) / 4 + (p ** 3) / 27\n",
    "\n",
    "    if delta > 0:\n",
    "        # Case 1: One real root and two complex roots\n",
    "        u = (-q / 2 + math.sqrt(delta)) ** (1 / 3)\n",
    "        v = (-q / 2 - math.sqrt(delta)) ** (1 / 3)\n",
    "        real_root = u + v - b / (3 * a)\n",
    "        complex_root1 = (-1 / 2) * (u + v) - b / (3 * a) + ((u - v) * math.sqrt(3)) / 2j\n",
    "        complex_root2 = (-1 / 2) * (u + v) - b / (3 * a) - ((u - v) * math.sqrt(3)) / 2j\n",
    "        return [real_root, complex_root1, complex_root2]\n",
    "    elif delta == 0:\n",
    "        # Case 2: Three real roots, two of them are equal\n",
    "        u = (-q / 2) ** (1 / 3)\n",
    "        real_root1 = 2 * u - b / (3 * a)\n",
    "        real_root2 = -u - b / (3 * a)\n",
    "        return [real_root1, real_root2, real_root2]\n",
    "    else:\n",
    "        # Case 3: Three real roots\n",
    "        rho = math.sqrt((-p ** 3) / 27)\n",
    "        theta = math.acos(-q / (2 * rho))\n",
    "        root1 = 2 * math.sqrt(rho) * math.cos(theta / 3) - b / (3 * a)\n",
    "        root2 = 2 * math.sqrt(rho) * math.cos((theta + 2 * math.pi) / 3) - b / (3 * a)\n",
    "        root3 = 2 * math.sqrt(rho) * math.cos((theta + 4 * math.pi) / 3) - b / (3 * a)\n",
    "        return [root1, root2, root3]\n",
    "\n",
    "# Input coefficients of the cubic equation (ax^3 + bx^2 + cx + d = 0)\n",
    "a = float(input(\"Enter coefficient a: \"))\n",
    "b = float(input(\"Enter coefficient b: \"))\n",
    "c = float(input(\"Enter coefficient c: \"))\n",
    "d = float(input(\"Enter coefficient d: \"))\n",
    "\n",
    "# Find and print the roots\n",
    "roots = cubic_roots(a, b, c, d)\n",
    "print(\"Roots of the cubic equation:\")\n",
    "for i, root in enumerate(roots):\n",
    "    print(f\"Root {i+1}: {root:.6f}\")"
   ]
  },
  {
   "cell_type": "code",
   "execution_count": 58,
   "id": "69b7d64d-9b82-4320-904a-d05c0b57af06",
   "metadata": {},
   "outputs": [],
   "source": [
    "# ADVANCED LEVEL:"
   ]
  },
  {
   "cell_type": "code",
   "execution_count": 59,
   "id": "8bdcc6d8-e692-43eb-9963-62a7d8fcd3bd",
   "metadata": {},
   "outputs": [
    {
     "name": "stdin",
     "output_type": "stream",
     "text": [
      "Enter your income: $ 10000\n"
     ]
    },
    {
     "name": "stdout",
     "output_type": "stream",
     "text": [
      "Your income tax is: $1000.00\n"
     ]
    }
   ],
   "source": [
    "#Q.21. Create a program that calculates the income tax based on the user's income and tax brackets.\n",
    "# Function to calculate income tax based on tax brackets\n",
    "def calculate_income_tax(income):\n",
    "    # Define tax brackets and rates\n",
    "    brackets = [(0, 10000), (10001, 30000), (30001, 70000), (70001, float('inf'))]\n",
    "    rates = [0.1, 0.2, 0.3, 0.4]\n",
    "\n",
    "    # Initialize the total tax\n",
    "    total_tax = 0\n",
    "\n",
    "    # Calculate tax based on income and tax brackets\n",
    "    for i in range(len(brackets)):\n",
    "        lower_limit, upper_limit = brackets[i]\n",
    "        rate = rates[i]\n",
    "\n",
    "        if income <= lower_limit:\n",
    "            break\n",
    "\n",
    "        taxable_income = min(upper_limit, income) - lower_limit\n",
    "        tax_for_bracket = taxable_income * rate\n",
    "        total_tax += tax_for_bracket\n",
    "\n",
    "    return total_tax\n",
    "\n",
    "# Input the user's income\n",
    "try:\n",
    "    income = float(input(\"Enter your income: $\"))\n",
    "    if income < 0:\n",
    "        print(\"Income cannot be negative.\")\n",
    "    else:\n",
    "        # Calculate income tax\n",
    "        income_tax = calculate_income_tax(income)\n",
    "        print(f\"Your income tax is: ${income_tax:.2f}\")\n",
    "except ValueError:\n",
    "    print(\"Invalid input. Please enter a valid income amount.\")"
   ]
  },
  {
   "cell_type": "code",
   "execution_count": 60,
   "id": "d9489de5-4eaa-4e68-8ebe-8de78be4df97",
   "metadata": {},
   "outputs": [
    {
     "name": "stdout",
     "output_type": "stream",
     "text": [
      "Welcome to Rock-Paper-Scissors!\n",
      "Enter your choice: rock, paper, or scissors\n",
      "To quit the game, enter 'quit'\n"
     ]
    },
    {
     "name": "stdin",
     "output_type": "stream",
     "text": [
      "\n",
      "Enter your choice:  rock\n"
     ]
    },
    {
     "name": "stdout",
     "output_type": "stream",
     "text": [
      "You chose rock. Computer chose scissors. You win!\n"
     ]
    },
    {
     "name": "stdin",
     "output_type": "stream",
     "text": [
      "\n",
      "Enter your choice:  paper\n"
     ]
    },
    {
     "name": "stdout",
     "output_type": "stream",
     "text": [
      "You chose paper. Computer chose rock. You win!\n"
     ]
    },
    {
     "name": "stdin",
     "output_type": "stream",
     "text": [
      "\n",
      "Enter your choice:  scissore\n"
     ]
    },
    {
     "name": "stdout",
     "output_type": "stream",
     "text": [
      "Invalid choice. Please choose rock, paper, or scissors.\n"
     ]
    },
    {
     "name": "stdin",
     "output_type": "stream",
     "text": [
      "\n",
      "Enter your choice:  or scissors\n"
     ]
    },
    {
     "name": "stdout",
     "output_type": "stream",
     "text": [
      "Invalid choice. Please choose rock, paper, or scissors.\n"
     ]
    },
    {
     "name": "stdin",
     "output_type": "stream",
     "text": [
      "\n",
      "Enter your choice:  scissors\n"
     ]
    },
    {
     "name": "stdout",
     "output_type": "stream",
     "text": [
      "You chose scissors. Computer chose rock. Computer wins!\n"
     ]
    },
    {
     "name": "stdin",
     "output_type": "stream",
     "text": [
      "\n",
      "Enter your choice:  quite\n"
     ]
    },
    {
     "name": "stdout",
     "output_type": "stream",
     "text": [
      "Invalid choice. Please choose rock, paper, or scissors.\n"
     ]
    },
    {
     "name": "stdin",
     "output_type": "stream",
     "text": [
      "\n",
      "Enter your choice:  quit\n"
     ]
    },
    {
     "name": "stdout",
     "output_type": "stream",
     "text": [
      "Thanks for playing!\n"
     ]
    }
   ],
   "source": [
    "#Q.22. Write a program that simulates a rock-paper-scissors game against the computer.\n",
    "import random\n",
    "\n",
    "# Function to get the computer's choice\n",
    "def get_computer_choice():\n",
    "    choices = [\"rock\", \"paper\", \"scissors\"]\n",
    "    return random.choice(choices)\n",
    "\n",
    "# Function to determine the winner\n",
    "def determine_winner(player_choice, computer_choice):\n",
    "    if player_choice == computer_choice:\n",
    "        return \"It's a tie!\"\n",
    "    elif (\n",
    "        (player_choice == \"rock\" and computer_choice == \"scissors\") or\n",
    "        (player_choice == \"paper\" and computer_choice == \"rock\") or\n",
    "        (player_choice == \"scissors\" and computer_choice == \"paper\")\n",
    "    ):\n",
    "        return \"You win!\"\n",
    "    else:\n",
    "        return \"Computer wins!\"\n",
    "\n",
    "# Display the game instructions\n",
    "print(\"Welcome to Rock-Paper-Scissors!\")\n",
    "print(\"Enter your choice: rock, paper, or scissors\")\n",
    "print(\"To quit the game, enter 'quit'\")\n",
    "\n",
    "# Main game loop\n",
    "while True:\n",
    "    # Get the player's choice\n",
    "    player_choice = input(\"\\nEnter your choice: \").lower()\n",
    "\n",
    "    if player_choice == \"quit\":\n",
    "        print(\"Thanks for playing!\")\n",
    "        break\n",
    "    elif player_choice not in [\"rock\", \"paper\", \"scissors\"]:\n",
    "        print(\"Invalid choice. Please choose rock, paper, or scissors.\")\n",
    "        continue\n",
    "\n",
    "    # Get the computer's choice\n",
    "    computer_choice = get_computer_choice()\n",
    "\n",
    "    # Determine the winner and print the result\n",
    "    result = determine_winner(player_choice, computer_choice)\n",
    "    print(f\"You chose {player_choice}. Computer chose {computer_choice}. {result}\")"
   ]
  },
  {
   "cell_type": "code",
   "execution_count": 61,
   "id": "03a37a8a-54da-4d2f-abff-e34869cbfeea",
   "metadata": {},
   "outputs": [
    {
     "name": "stdin",
     "output_type": "stream",
     "text": [
      "Enter the desired password length:  8\n",
      "Include digits (yes/no):  yes\n",
      "Include special characters (yes/no):  yes\n"
     ]
    },
    {
     "name": "stdout",
     "output_type": "stream",
     "text": [
      "Generated Password: P`tEKbW6\n"
     ]
    }
   ],
   "source": [
    "#Q.23. Develop a program that generates a random password based on user preferences (length, complexity).\n",
    "import random\n",
    "import string\n",
    "\n",
    "# Function to generate a random password\n",
    "def generate_password(length, include_digits, include_special_chars):\n",
    "    # Define character sets based on complexity preferences\n",
    "    lowercase_letters = string.ascii_lowercase\n",
    "    uppercase_letters = string.ascii_uppercase\n",
    "    digits = string.digits if include_digits else \"\"\n",
    "    special_chars = string.punctuation if include_special_chars else \"\"\n",
    "\n",
    "    # Combine character sets based on preferences\n",
    "    valid_chars = lowercase_letters + uppercase_letters + digits + special_chars\n",
    "\n",
    "    if len(valid_chars) == 0:\n",
    "        return \"Cannot generate a password with no valid characters.\"\n",
    "\n",
    "    # Generate the password\n",
    "    password = ''.join(random.choice(valid_chars) for _ in range(length))\n",
    "    return password\n",
    "\n",
    "# Input user preferences\n",
    "try:\n",
    "    length = int(input(\"Enter the desired password length: \"))\n",
    "    include_digits = input(\"Include digits (yes/no): \").lower() == \"yes\"\n",
    "    include_special_chars = input(\"Include special characters (yes/no): \").lower() == \"yes\"\n",
    "\n",
    "    # Generate and print the password\n",
    "    password = generate_password(length, include_digits, include_special_chars)\n",
    "    print(\"Generated Password:\", password)\n",
    "except ValueError:\n",
    "    print(\"Invalid input. Please enter a valid password length.\")"
   ]
  },
  {
   "cell_type": "code",
   "execution_count": 62,
   "id": "e3dfb0ca-8659-41ce-85f3-fea3edc8bcb7",
   "metadata": {},
   "outputs": [
    {
     "name": "stdout",
     "output_type": "stream",
     "text": [
      "Welcome to the Text Adventure Game!\n",
      "You find yourself in a dark forest. You have two paths ahead:\n",
      "Which path do you choose?\n",
      "1. Go left\n",
      "2. Go right\n"
     ]
    },
    {
     "name": "stdin",
     "output_type": "stream",
     "text": [
      "Enter your choice:  1\n"
     ]
    },
    {
     "name": "stdout",
     "output_type": "stream",
     "text": [
      "You come across a river with no bridge.\n",
      "What do you do?\n",
      "1. Swim across\n",
      "2. Look for another way\n"
     ]
    },
    {
     "name": "stdin",
     "output_type": "stream",
     "text": [
      "Enter your choice:  1\n"
     ]
    },
    {
     "name": "stdout",
     "output_type": "stream",
     "text": [
      "You tried to swim across but were swept away by the current. Game over!\n",
      "Congratulations! You have completed the Text Adventure Game.\n"
     ]
    }
   ],
   "source": [
    "#Q.24. Create a program that implements a simple text-based adventure game with branching scenarios.\n",
    "import time\n",
    "\n",
    "# Function to display a message with a delay\n",
    "def display_message(message, delay=1.5):\n",
    "    print(message)\n",
    "    time.sleep(delay)\n",
    "\n",
    "# Function to handle the player's choice\n",
    "def get_choice(prompt, options):\n",
    "    while True:\n",
    "        print(prompt)\n",
    "        for i, option in enumerate(options, start=1):\n",
    "            print(f\"{i}. {option}\")\n",
    "        \n",
    "        try:\n",
    "            choice = int(input(\"Enter your choice: \"))\n",
    "            if 1 <= choice <= len(options):\n",
    "                return choice\n",
    "            else:\n",
    "                print(\"Invalid choice. Please select a valid option.\")\n",
    "        except ValueError:\n",
    "            print(\"Invalid input. Please enter a number.\")\n",
    "\n",
    "# Introduction\n",
    "display_message(\"Welcome to the Text Adventure Game!\")\n",
    "\n",
    "# Scenario 1\n",
    "display_message(\"You find yourself in a dark forest. You have two paths ahead:\")\n",
    "choice1 = get_choice(\"Which path do you choose?\", [\"Go left\", \"Go right\"])\n",
    "\n",
    "if choice1 == 1:\n",
    "    # Scenario 2 - Left path\n",
    "    display_message(\"You come across a river with no bridge.\")\n",
    "    choice2 = get_choice(\"What do you do?\", [\"Swim across\", \"Look for another way\"])\n",
    "    if choice2 == 1:\n",
    "        display_message(\"You tried to swim across but were swept away by the current. Game over!\")\n",
    "    else:\n",
    "        display_message(\"You found a hidden path that led you safely across the river.\")\n",
    "else:\n",
    "    # Scenario 3 - Right path\n",
    "    display_message(\"You encounter a hungry bear!\")\n",
    "    choice3 = get_choice(\"What do you do?\", [\"Run away\", \"Climb a tree\"])\n",
    "    if choice3 == 1:\n",
    "        display_message(\"You attempted to run, but the bear caught up with you. Game over!\")\n",
    "    else:\n",
    "        display_message(\"You climbed a tree and waited until the bear left. You're safe for now.\")\n",
    "\n",
    "# Conclusion\n",
    "display_message(\"Congratulations! You have completed the Text Adventure Game.\")"
   ]
  },
  {
   "cell_type": "code",
   "execution_count": 63,
   "id": "6eccec3f-7481-4d7c-b58e-7d022331f683",
   "metadata": {},
   "outputs": [
    {
     "name": "stdin",
     "output_type": "stream",
     "text": [
      "Enter the coefficient a:  8\n",
      "Enter the coefficient b:  3\n"
     ]
    },
    {
     "name": "stdout",
     "output_type": "stream",
     "text": [
      "The solution for x is: -0.375\n"
     ]
    }
   ],
   "source": [
    "#Q.25. Build a program that solves a linear equation for x, considering different cases.\n",
    "# Function to solve a linear equation for x\n",
    "def solve_linear_equation(a, b):\n",
    "    if a == 0:\n",
    "        if b == 0:\n",
    "            return \"Infinite solutions (all real numbers)\"\n",
    "        else:\n",
    "            return \"No solution\"\n",
    "    else:\n",
    "        x = -b / a\n",
    "        return f\"The solution for x is: {x}\"\n",
    "\n",
    "# Input coefficients a and b\n",
    "try:\n",
    "    a = float(input(\"Enter the coefficient a: \"))\n",
    "    b = float(input(\"Enter the coefficient b: \"))\n",
    "    \n",
    "    # Solve the linear equation and print the result\n",
    "    result = solve_linear_equation(a, b)\n",
    "    print(result)\n",
    "except ValueError:\n",
    "    print(\"Invalid input. Please enter valid coefficients.\")"
   ]
  },
  {
   "cell_type": "code",
   "execution_count": 64,
   "id": "f52642e0-32c7-4169-b264-99b4f3b14e64",
   "metadata": {},
   "outputs": [
    {
     "name": "stdout",
     "output_type": "stream",
     "text": [
      "What is the capital of France?\n",
      "1. Paris\n",
      "2. London\n",
      "3. Berlin\n"
     ]
    },
    {
     "name": "stdin",
     "output_type": "stream",
     "text": [
      "Enter your choice (1/2/3):  3\n"
     ]
    },
    {
     "name": "stdout",
     "output_type": "stream",
     "text": [
      "Incorrect. The correct answer is: 1\n",
      "Which planet is known as the Red Planet?\n",
      "1. Mars\n",
      "2. Jupiter\n",
      "3. Venus\n"
     ]
    },
    {
     "name": "stdin",
     "output_type": "stream",
     "text": [
      "Enter your choice (1/2/3):  2\n"
     ]
    },
    {
     "name": "stdout",
     "output_type": "stream",
     "text": [
      "Incorrect. The correct answer is: 1\n",
      "What is the largest mammal in the world?\n",
      "1. Elephant\n",
      "2. Blue whale\n",
      "3. Giraffe\n"
     ]
    },
    {
     "name": "stdin",
     "output_type": "stream",
     "text": [
      "Enter your choice (1/2/3):  2\n"
     ]
    },
    {
     "name": "stdout",
     "output_type": "stream",
     "text": [
      "Correct!\n",
      "Your final score is: 1\n"
     ]
    }
   ],
   "source": [
    "#Q.26. Write a program that simulates a basic quiz game with multiple-choice questions and scoring.\n",
    "# Function to display a question and its choices\n",
    "def display_question(question, choices):\n",
    "    print(question)\n",
    "    for i, choice in enumerate(choices, start=1):\n",
    "        print(f\"{i}. {choice}\")\n",
    "\n",
    "# Function to get the user's choice\n",
    "def get_user_choice(choices):\n",
    "    while True:\n",
    "        try:\n",
    "            choice = int(input(\"Enter your choice (1/2/3): \"))\n",
    "            if 1 <= choice <= len(choices):\n",
    "                return choice\n",
    "            else:\n",
    "                print(\"Invalid choice. Please select a valid option.\")\n",
    "        except ValueError:\n",
    "            print(\"Invalid input. Please enter a number.\")\n",
    "\n",
    "# Function to check the user's answer\n",
    "def check_answer(user_choice, correct_choice, score):\n",
    "    if user_choice == correct_choice:\n",
    "        print(\"Correct!\")\n",
    "        return score + 1\n",
    "    else:\n",
    "        print(\"Incorrect. The correct answer is:\", correct_choice)\n",
    "        return score\n",
    "\n",
    "# Quiz questions and answers\n",
    "questions = [\n",
    "    \"What is the capital of France?\",\n",
    "    \"Which planet is known as the Red Planet?\",\n",
    "    \"What is the largest mammal in the world?\",\n",
    "]\n",
    "\n",
    "choices = [\n",
    "    [\"Paris\", \"London\", \"Berlin\"],\n",
    "    [\"Mars\", \"Jupiter\", \"Venus\"],\n",
    "    [\"Elephant\", \"Blue whale\", \"Giraffe\"],\n",
    "]\n",
    "\n",
    "correct_answers = [1, 1, 2]\n",
    "\n",
    "# Initialize the score\n",
    "score = 0\n",
    "\n",
    "# Display and process quiz questions\n",
    "for i in range(len(questions)):\n",
    "    display_question(questions[i], choices[i])\n",
    "    user_choice = get_user_choice(choices[i])\n",
    "    score = check_answer(user_choice, correct_answers[i], score)\n",
    "\n",
    "# Display the final score\n",
    "print(\"Your final score is:\", score)"
   ]
  },
  {
   "cell_type": "code",
   "execution_count": 65,
   "id": "3eb6bd0a-4d24-4378-a6b0-3f320d2c040a",
   "metadata": {},
   "outputs": [
    {
     "name": "stdin",
     "output_type": "stream",
     "text": [
      "Enter a year:  2078\n"
     ]
    },
    {
     "name": "stdout",
     "output_type": "stream",
     "text": [
      "2078 is not a prime year.\n"
     ]
    }
   ],
   "source": [
    "#Q.27. Develop a program that determines whether a given year is a prime number or not.\n",
    "# Function to check if a year is prime\n",
    "def is_prime_year(year):\n",
    "    if year <= 1:\n",
    "        return False\n",
    "    if year <= 3:\n",
    "        return True\n",
    "    if year % 2 == 0 or year % 3 == 0:\n",
    "        return False\n",
    "\n",
    "    i = 5\n",
    "    while i * i <= year:\n",
    "        if year % i == 0 or year % (i + 2) == 0:\n",
    "            return False\n",
    "        i += 6\n",
    "\n",
    "    return True\n",
    "\n",
    "# Input year from the user\n",
    "try:\n",
    "    year = int(input(\"Enter a year: \"))\n",
    "    if is_prime_year(year):\n",
    "        print(f\"{year} is a prime year!\")\n",
    "    else:\n",
    "        print(f\"{year} is not a prime year.\")\n",
    "except ValueError:\n",
    "    print(\"Invalid input. Please enter a valid year.\")"
   ]
  },
  {
   "cell_type": "code",
   "execution_count": 66,
   "id": "c8b5129c-18fe-4d1a-b953-2cb709538135",
   "metadata": {},
   "outputs": [
    {
     "name": "stdin",
     "output_type": "stream",
     "text": [
      "Enter the first number:  45\n",
      "Enter the second number:  23\n",
      "Enter the third number:  34\n"
     ]
    },
    {
     "name": "stdout",
     "output_type": "stream",
     "text": [
      "Sorted numbers in ascending order: [23.0, 34.0, 45.0]\n"
     ]
    }
   ],
   "source": [
    "#Q.28. Create a program that sorts three numbers in ascending order using conditional statements.\n",
    "# Input three numbers from the user\n",
    "try:\n",
    "    num1 = float(input(\"Enter the first number: \"))\n",
    "    num2 = float(input(\"Enter the second number: \"))\n",
    "    num3 = float(input(\"Enter the third number: \"))\n",
    "\n",
    "    # Use conditional statements to sort the numbers\n",
    "    if num1 <= num2 <= num3:\n",
    "        sorted_nums = [num1, num2, num3]\n",
    "    elif num1 <= num3 <= num2:\n",
    "        sorted_nums = [num1, num3, num2]\n",
    "    elif num2 <= num1 <= num3:\n",
    "        sorted_nums = [num2, num1, num3]\n",
    "    elif num2 <= num3 <= num1:\n",
    "        sorted_nums = [num2, num3, num1]\n",
    "    elif num3 <= num1 <= num2:\n",
    "        sorted_nums = [num3, num1, num2]\n",
    "    else:\n",
    "        sorted_nums = [num3, num2, num1]\n",
    "\n",
    "    # Display the sorted numbers\n",
    "    print(\"Sorted numbers in ascending order:\", sorted_nums)\n",
    "except ValueError:\n",
    "    print(\"Invalid input. Please enter valid numbers.\")"
   ]
  },
  {
   "cell_type": "code",
   "execution_count": 69,
   "id": "9fbc52d5-a111-4be1-8a0d-8bfad1b5b071",
   "metadata": {},
   "outputs": [
    {
     "name": "stdin",
     "output_type": "stream",
     "text": [
      "Enter an initial guess for the root:  81\n"
     ]
    },
    {
     "name": "stdout",
     "output_type": "stream",
     "text": [
      "Root approximation after 34 iterations: 2.618035\n"
     ]
    }
   ],
   "source": [
    "#Q.29. Build a program that determines the roots of a quartic equation using numerical methods.\n",
    "import sympy as sp\n",
    "\n",
    "# Define the coefficients for the quartic equation: ax^4 + bx^3 + cx^2 + dx + e = 0\n",
    "a = 1\n",
    "b = -6\n",
    "c = 11\n",
    "d = -6\n",
    "e = 1\n",
    "\n",
    "# Define the quartic equation: ax^4 + bx^3 + cx^2 + dx + e = 0\n",
    "x = sp.symbols('x')\n",
    "equation = a * x**4 + b * x**3 + c * x**2 + d * x + e\n",
    "\n",
    "# Derivative of the equation\n",
    "derivative = sp.diff(equation, x)\n",
    "\n",
    "# Initial guess for the root\n",
    "x0 = float(input(\"Enter an initial guess for the root: \"))\n",
    "\n",
    "# Tolerance level for convergence\n",
    "tolerance = 1e-6\n",
    "\n",
    "# Maximum number of iterations\n",
    "max_iterations = 100\n",
    "\n",
    "# Newton-Raphson method\n",
    "for i in range(max_iterations):\n",
    "    f_x = equation.subs(x, x0)\n",
    "    f_prime_x = derivative.subs(x, x0)\n",
    "\n",
    "    x1 = x0 - f_x / f_prime_x\n",
    "\n",
    "    if abs(x1 - x0) < tolerance:\n",
    "        print(f\"Root approximation after {i+1} iterations: {x1:.6f}\")\n",
    "        break\n",
    "\n",
    "    x0 = x1\n",
    "else:\n",
    "    print(\"Newton-Raphson method did not converge after\", max_iterations, \"iterations.\")"
   ]
  },
  {
   "cell_type": "code",
   "execution_count": 70,
   "id": "e159bd2a-7b87-4716-89aa-37edf165c0a0",
   "metadata": {},
   "outputs": [
    {
     "name": "stdin",
     "output_type": "stream",
     "text": [
      "Enter your weight in kilograms:  70\n",
      "Enter your height in meters:  56\n"
     ]
    },
    {
     "name": "stdout",
     "output_type": "stream",
     "text": [
      "Your BMI is: 0.02\n",
      "You are underweight. You may need to gain some weight for better health.\n"
     ]
    }
   ],
   "source": [
    "#Q.30. Write a program that calculates the BMI (Body Mass Index) and provides health recommendations based on the user's input.\n",
    "# Function to calculate BMI\n",
    "def calculate_bmi(weight_kg, height_m):\n",
    "    return weight_kg / (height_m ** 2)\n",
    "\n",
    "# Function to provide health recommendations based on BMI\n",
    "def get_health_recommendation(bmi):\n",
    "    if bmi < 18.5:\n",
    "        return \"You are underweight. You may need to gain some weight for better health.\"\n",
    "    elif 18.5 <= bmi < 24.9:\n",
    "        return \"Your BMI is in the healthy range. Keep up the good work!\"\n",
    "    elif 25 <= bmi < 29.9:\n",
    "        return \"You are overweight. Consider maintaining a balanced diet and regular exercise.\"\n",
    "    else:\n",
    "        return \"You are obese. It's important to consult a healthcare professional for advice.\"\n",
    "\n",
    "# Input weight in kilograms and height in meters\n",
    "try:\n",
    "    weight_kg = float(input(\"Enter your weight in kilograms: \"))\n",
    "    height_m = float(input(\"Enter your height in meters: \"))\n",
    "\n",
    "    if weight_kg <= 0 or height_m <= 0:\n",
    "        print(\"Invalid input. Weight and height must be positive values.\")\n",
    "    else:\n",
    "        # Calculate BMI\n",
    "        bmi = calculate_bmi(weight_kg, height_m)\n",
    "        \n",
    "        # Display BMI and health recommendation\n",
    "        print(f\"Your BMI is: {bmi:.2f}\")\n",
    "        recommendation = get_health_recommendation(bmi)\n",
    "        print(recommendation)\n",
    "except ValueError:\n",
    "    print(\"Invalid input. Please enter valid weight and height.\")"
   ]
  },
  {
   "cell_type": "code",
   "execution_count": 71,
   "id": "828d67ea-4293-4905-af00-3798b965a041",
   "metadata": {},
   "outputs": [],
   "source": [
    "# CHALLENGE LEVEL:"
   ]
  },
  {
   "cell_type": "code",
   "execution_count": 72,
   "id": "0435f017-e80a-4499-990c-3bc3f4b6dfb3",
   "metadata": {},
   "outputs": [
    {
     "name": "stdin",
     "output_type": "stream",
     "text": [
      "Enter a password:  asdbywu34@#@#\n"
     ]
    },
    {
     "name": "stdout",
     "output_type": "stream",
     "text": [
      "Invalid password. Please ensure it meets the complexity requirements.\n"
     ]
    }
   ],
   "source": [
    "#Q.31. Create a program that validates a password based on complexity rules (length, characters, etc.).\n",
    "import re\n",
    "\n",
    "# Function to validate a password\n",
    "def is_valid_password(password):\n",
    "    # Check the length of the password (between 8 and 16 characters)\n",
    "    if not (8 <= len(password) <= 16):\n",
    "        return False\n",
    "\n",
    "    # Check for at least one lowercase letter\n",
    "    if not re.search(r'[a-z]', password):\n",
    "        return False\n",
    "\n",
    "    # Check for at least one uppercase letter\n",
    "    if not re.search(r'[A-Z]', password):\n",
    "        return False\n",
    "\n",
    "    # Check for at least one digit\n",
    "    if not re.search(r'\\d', password):\n",
    "        return False\n",
    "\n",
    "    # Check for at least one special character (e.g., !@#$%^&*)\n",
    "    if not re.search(r'[!@#$%^&*]', password):\n",
    "        return False\n",
    "\n",
    "    # Password meets all criteria\n",
    "    return True\n",
    "\n",
    "# Input a password from the user\n",
    "password = input(\"Enter a password: \")\n",
    "\n",
    "# Validate the password and provide feedback\n",
    "if is_valid_password(password):\n",
    "    print(\"Password is valid. Good choice!\")\n",
    "else:\n",
    "    print(\"Invalid password. Please ensure it meets the complexity requirements.\")"
   ]
  },
  {
   "cell_type": "code",
   "execution_count": 1,
   "id": "d6721788-b11a-4f24-a2bf-5fcf71ac47c9",
   "metadata": {},
   "outputs": [
    {
     "name": "stdin",
     "output_type": "stream",
     "text": [
      "Enter the number of rows:  2\n",
      "Enter the number of columns:  3\n"
     ]
    },
    {
     "name": "stdout",
     "output_type": "stream",
     "text": [
      "Enter the first matrix:\n"
     ]
    },
    {
     "name": "stdin",
     "output_type": "stream",
     "text": [
      "Enter element at row 1, column 1:  12\n",
      "Enter element at row 1, column 2:  11\n",
      "Enter element at row 1, column 3:  10\n",
      "Enter element at row 2, column 1:  34\n",
      "Enter element at row 2, column 2:  23\n",
      "Enter element at row 2, column 3:  12\n"
     ]
    },
    {
     "name": "stdout",
     "output_type": "stream",
     "text": [
      "Enter the second matrix:\n"
     ]
    },
    {
     "name": "stdin",
     "output_type": "stream",
     "text": [
      "Enter element at row 1, column 1:  11\n",
      "Enter element at row 1, column 2:  24\n",
      "Enter element at row 1, column 3:  23\n",
      "Enter element at row 2, column 1:  10\n",
      "Enter element at row 2, column 2:  9\n",
      "Enter element at row 2, column 3:  20\n"
     ]
    },
    {
     "name": "stdout",
     "output_type": "stream",
     "text": [
      "\n",
      "Matrix Addition Result:\n",
      "[23.0, 35.0, 33.0]\n",
      "[44.0, 32.0, 32.0]\n",
      "\n",
      "Matrix Subtraction Result:\n",
      "[1.0, -13.0, -13.0]\n",
      "[24.0, 14.0, -8.0]\n"
     ]
    }
   ],
   "source": [
    "#Q.32. Develop a program that performs matrix addition and subtraction based on user input.\n",
    "# Function to input a matrix from the user\n",
    "def input_matrix(rows, cols):\n",
    "    matrix = []\n",
    "    for i in range(rows):\n",
    "        row = []\n",
    "        for j in range(cols):\n",
    "            element = float(input(f\"Enter element at row {i+1}, column {j+1}: \"))\n",
    "            row.append(element)\n",
    "        matrix.append(row)\n",
    "    return matrix\n",
    "\n",
    "# Function to display a matrix\n",
    "def display_matrix(matrix):\n",
    "    for row in matrix:\n",
    "        print(row)\n",
    "\n",
    "# Function to add two matrices\n",
    "def add_matrices(matrix1, matrix2):\n",
    "    result = []\n",
    "    for i in range(len(matrix1)):\n",
    "        row = []\n",
    "        for j in range(len(matrix1[0])):\n",
    "            element = matrix1[i][j] + matrix2[i][j]\n",
    "            row.append(element)\n",
    "        result.append(row)\n",
    "    return result\n",
    "\n",
    "# Function to subtract two matrices\n",
    "def subtract_matrices(matrix1, matrix2):\n",
    "    result = []\n",
    "    for i in range(len(matrix1)):\n",
    "        row = []\n",
    "        for j in range(len(matrix1[0])):\n",
    "            element = matrix1[i][j] - matrix2[i][j]\n",
    "            row.append(element)\n",
    "        result.append(row)\n",
    "    return result\n",
    "\n",
    "# Input dimensions of the matrices\n",
    "try:\n",
    "    rows = int(input(\"Enter the number of rows: \"))\n",
    "    cols = int(input(\"Enter the number of columns: \"))\n",
    "\n",
    "    # Input the first matrix\n",
    "    print(\"Enter the first matrix:\")\n",
    "    matrix1 = input_matrix(rows, cols)\n",
    "\n",
    "    # Input the second matrix\n",
    "    print(\"Enter the second matrix:\")\n",
    "    matrix2 = input_matrix(rows, cols)\n",
    "\n",
    "    # Perform matrix addition and display the result\n",
    "    addition_result = add_matrices(matrix1, matrix2)\n",
    "    print(\"\\nMatrix Addition Result:\")\n",
    "    display_matrix(addition_result)\n",
    "\n",
    "    # Perform matrix subtraction and display the result\n",
    "    subtraction_result = subtract_matrices(matrix1, matrix2)\n",
    "    print(\"\\nMatrix Subtraction Result:\")\n",
    "    display_matrix(subtraction_result)\n",
    "\n",
    "except ValueError:\n",
    "    print(\"Invalid input. Please enter valid dimensions and matrix elements.\")"
   ]
  },
  {
   "cell_type": "code",
   "execution_count": 2,
   "id": "6e1a93e9-cfc9-4460-9d38-01318c5d6d19",
   "metadata": {},
   "outputs": [
    {
     "name": "stdin",
     "output_type": "stream",
     "text": [
      "Enter the first number:  4\n",
      "Enter the second number:  6\n"
     ]
    },
    {
     "name": "stdout",
     "output_type": "stream",
     "text": [
      "The GCD of 4 and 6 is 2\n"
     ]
    }
   ],
   "source": [
    "#Q.33. Write a program that calculates the greatest common divisor (GCD) of two numbers using the Euclidean algorithm.\n",
    "def gcd(a, b):\n",
    "    while b:\n",
    "        a, b = b, a % b\n",
    "    return a\n",
    "\n",
    "# Input two numbers from the user\n",
    "num1 = int(input(\"Enter the first number: \"))\n",
    "num2 = int(input(\"Enter the second number: \"))\n",
    "\n",
    "# Calculate the GCD using the Euclidean algorithm\n",
    "result = gcd(num1, num2)\n",
    "\n",
    "# Print the GCD\n",
    "print(f\"The GCD of {num1} and {num2} is {result}\")"
   ]
  },
  {
   "cell_type": "code",
   "execution_count": 3,
   "id": "3f10ebb5-2c13-4586-b197-a5792e0c358f",
   "metadata": {},
   "outputs": [
    {
     "name": "stdout",
     "output_type": "stream",
     "text": [
      "Matrix A:\n",
      "[1, 2, 3]\n",
      "[4, 5, 6]\n",
      "\n",
      "Matrix B:\n",
      "[7, 8]\n",
      "[9, 10]\n",
      "[11, 12]\n",
      "\n",
      "Resulting Matrix:\n",
      "[58, 64]\n",
      "[139, 154]\n"
     ]
    }
   ],
   "source": [
    "#Q.34. Build a program that performs matrix multiplication using nested loops and conditional statements.\n",
    "# Function to multiply two matrices\n",
    "def matrix_multiply(matrix1, matrix2):\n",
    "    # Check if matrices can be multiplied\n",
    "    if len(matrix1[0]) != len(matrix2):\n",
    "        print(\"Matrix dimensions are not compatible for multiplication.\")\n",
    "        return None\n",
    "    \n",
    "    # Initialize the result matrix with zeros\n",
    "    result = [[0 for _ in range(len(matrix2[0]))] for _ in range(len(matrix1))]\n",
    "    \n",
    "    # Perform matrix multiplication\n",
    "    for i in range(len(matrix1)):\n",
    "        for j in range(len(matrix2[0])):\n",
    "            for k in range(len(matrix2)):\n",
    "                result[i][j] += matrix1[i][k] * matrix2[k][j]\n",
    "    \n",
    "    return result\n",
    "\n",
    "# Input matrices (2x3 and 3x2 for example)\n",
    "matrix_a = [[1, 2, 3], [4, 5, 6]]\n",
    "matrix_b = [[7, 8], [9, 10], [11, 12]]\n",
    "\n",
    "# Perform matrix multiplication\n",
    "result_matrix = matrix_multiply(matrix_a, matrix_b)\n",
    "\n",
    "# Print the result\n",
    "if result_matrix:\n",
    "    print(\"Matrix A:\")\n",
    "    for row in matrix_a:\n",
    "        print(row)\n",
    "\n",
    "    print(\"\\nMatrix B:\")\n",
    "    for row in matrix_b:\n",
    "        print(row)\n",
    "\n",
    "    print(\"\\nResulting Matrix:\")\n",
    "    for row in result_matrix:\n",
    "        print(row)"
   ]
  },
  {
   "cell_type": "code",
   "execution_count": 4,
   "id": "f93cd074-a32c-414a-8e40-9364cde3e0a7",
   "metadata": {},
   "outputs": [
    {
     "name": "stdout",
     "output_type": "stream",
     "text": [
      "Welcome to Tic-Tac-Toe!\n",
      "  |   |  \n",
      "---------\n",
      "  |   |  \n",
      "---------\n",
      "  |   |  \n",
      "---------\n"
     ]
    },
    {
     "name": "stdin",
     "output_type": "stream",
     "text": [
      "Enter row (0, 1, 2) and column (0, 1, 2) for your move (e.g., 1 2):  1\n"
     ]
    },
    {
     "name": "stdout",
     "output_type": "stream",
     "text": [
      "Invalid input. Please enter row and column as integers.\n"
     ]
    },
    {
     "name": "stdin",
     "output_type": "stream",
     "text": [
      "Enter row (0, 1, 2) and column (0, 1, 2) for your move (e.g., 1 2):  1 2\n"
     ]
    },
    {
     "name": "stdout",
     "output_type": "stream",
     "text": [
      "  |   |  \n",
      "---------\n",
      "  |   | X\n",
      "---------\n",
      "  |   |  \n",
      "---------\n",
      "Computer's move:\n",
      "  |   | O\n",
      "---------\n",
      "  |   | X\n",
      "---------\n",
      "  |   |  \n",
      "---------\n"
     ]
    },
    {
     "name": "stdin",
     "output_type": "stream",
     "text": [
      "Enter row (0, 1, 2) and column (0, 1, 2) for your move (e.g., 1 2):  2 3\n"
     ]
    },
    {
     "name": "stdout",
     "output_type": "stream",
     "text": [
      "Invalid move. Try again.\n"
     ]
    },
    {
     "name": "stdin",
     "output_type": "stream",
     "text": [
      "Enter row (0, 1, 2) and column (0, 1, 2) for your move (e.g., 1 2):  0 1\n"
     ]
    },
    {
     "name": "stdout",
     "output_type": "stream",
     "text": [
      "  | X | O\n",
      "---------\n",
      "  |   | X\n",
      "---------\n",
      "  |   |  \n",
      "---------\n",
      "Computer's move:\n",
      "  | X | O\n",
      "---------\n",
      "  | O | X\n",
      "---------\n",
      "  |   |  \n",
      "---------\n"
     ]
    },
    {
     "name": "stdin",
     "output_type": "stream",
     "text": [
      "Enter row (0, 1, 2) and column (0, 1, 2) for your move (e.g., 1 2):  0 1\n"
     ]
    },
    {
     "name": "stdout",
     "output_type": "stream",
     "text": [
      "Invalid move. Try again.\n"
     ]
    },
    {
     "name": "stdin",
     "output_type": "stream",
     "text": [
      "Enter row (0, 1, 2) and column (0, 1, 2) for your move (e.g., 1 2):  0 2\n"
     ]
    },
    {
     "name": "stdout",
     "output_type": "stream",
     "text": [
      "Invalid move. Try again.\n"
     ]
    },
    {
     "name": "stdin",
     "output_type": "stream",
     "text": [
      "Enter row (0, 1, 2) and column (0, 1, 2) for your move (e.g., 1 2):  1 1\n"
     ]
    },
    {
     "name": "stdout",
     "output_type": "stream",
     "text": [
      "Invalid move. Try again.\n"
     ]
    },
    {
     "name": "stdin",
     "output_type": "stream",
     "text": [
      "Enter row (0, 1, 2) and column (0, 1, 2) for your move (e.g., 1 2):  2 2\n"
     ]
    },
    {
     "name": "stdout",
     "output_type": "stream",
     "text": [
      "  | X | O\n",
      "---------\n",
      "  | O | X\n",
      "---------\n",
      "  |   | X\n",
      "---------\n",
      "Computer's move:\n",
      "  | X | O\n",
      "---------\n",
      "  | O | X\n",
      "---------\n",
      "O |   | X\n",
      "---------\n",
      "Computer wins! Better luck next time.\n"
     ]
    }
   ],
   "source": [
    "#Q.35. Create a program that simulates a basic text-based tic-tac-toe game against the computer.\n",
    "import random\n",
    "\n",
    "# Function to display the Tic-Tac-Toe board\n",
    "def display_board(board):\n",
    "    for row in board:\n",
    "        print(\" | \".join(row))\n",
    "        print(\"-\" * 9)\n",
    "\n",
    "# Function to check for a win\n",
    "def check_win(board, player):\n",
    "    for row in board:\n",
    "        if all(cell == player for cell in row):\n",
    "            return True\n",
    "    \n",
    "    for col in range(3):\n",
    "        if all(board[row][col] == player for row in range(3)):\n",
    "            return True\n",
    "    \n",
    "    if all(board[i][i] == player for i in range(3)) or all(board[i][2 - i] == player for i in range(3)):\n",
    "        return True\n",
    "    \n",
    "    return False\n",
    "\n",
    "# Function for the computer's move\n",
    "def computer_move(board):\n",
    "    empty_cells = [(i, j) for i in range(3) for j in range(3) if board[i][j] == \" \"]\n",
    "    return random.choice(empty_cells)\n",
    "\n",
    "# Initialize the Tic-Tac-Toe board\n",
    "board = [[\" \" for _ in range(3)] for _ in range(3)]\n",
    "\n",
    "print(\"Welcome to Tic-Tac-Toe!\")\n",
    "display_board(board)\n",
    "\n",
    "# Main game loop\n",
    "player_symbol = \"X\"\n",
    "computer_symbol = \"O\"\n",
    "while True:\n",
    "    # Player's move\n",
    "    while True:\n",
    "        try:\n",
    "            row, col = map(int, input(\"Enter row (0, 1, 2) and column (0, 1, 2) for your move (e.g., 1 2): \").split())\n",
    "            if 0 <= row <= 2 and 0 <= col <= 2 and board[row][col] == \" \":\n",
    "                break\n",
    "            else:\n",
    "                print(\"Invalid move. Try again.\")\n",
    "        except ValueError:\n",
    "            print(\"Invalid input. Please enter row and column as integers.\")\n",
    "\n",
    "    board[row][col] = player_symbol\n",
    "    display_board(board)\n",
    "\n",
    "    if check_win(board, player_symbol):\n",
    "        print(\"Congratulations! You win!\")\n",
    "        break\n",
    "\n",
    "    # Check for a tie\n",
    "    if all(cell != \" \" for row in board for cell in row):\n",
    "        print(\"It's a tie!\")\n",
    "        break\n",
    "\n",
    "    # Computer's move\n",
    "    print(\"Computer's move:\")\n",
    "    comp_row, comp_col = computer_move(board)\n",
    "    board[comp_row][comp_col] = computer_symbol\n",
    "    display_board(board)\n",
    "\n",
    "    if check_win(board, computer_symbol):\n",
    "        print(\"Computer wins! Better luck next time.\")\n",
    "        break"
   ]
  },
  {
   "cell_type": "code",
   "execution_count": 1,
   "id": "549e3ff7-5061-459e-b81d-8930d61ee8b9",
   "metadata": {},
   "outputs": [
    {
     "name": "stdin",
     "output_type": "stream",
     "text": [
      "Enter the number of Fibonacci terms to generate:  10\n"
     ]
    },
    {
     "name": "stdout",
     "output_type": "stream",
     "text": [
      "Fibonacci sequence up to term 10 is:\n",
      "[0, 1, 1, 2, 3, 5, 8, 13, 21, 34]\n"
     ]
    }
   ],
   "source": [
    "#Q36. Write a program that generates Fibonacci numbers up to a specified term using iterative methods.\n",
    "def generate_fibonacci(n):\n",
    "    fibonacci_sequence = [0, 1]  # Initialize the sequence with the first two Fibonacci numbers\n",
    "\n",
    "    if n <= 0:\n",
    "        return []\n",
    "\n",
    "    elif n == 1:\n",
    "        return [0]\n",
    "\n",
    "    while len(fibonacci_sequence) < n:\n",
    "        next_number = fibonacci_sequence[-1] + fibonacci_sequence[-2]\n",
    "        fibonacci_sequence.append(next_number)\n",
    "\n",
    "    return fibonacci_sequence\n",
    "\n",
    "# Input the desired term 'n'\n",
    "n = int(input(\"Enter the number of Fibonacci terms to generate: \"))\n",
    "\n",
    "if n < 0:\n",
    "    print(\"Please enter a non-negative integer.\")\n",
    "else:\n",
    "    result = generate_fibonacci(n)\n",
    "    print(\"Fibonacci sequence up to term\", n, \"is:\")\n",
    "    print(result)"
   ]
  },
  {
   "cell_type": "code",
   "execution_count": 2,
   "id": "49817928-b7f4-4512-afbc-d90e6e634a57",
   "metadata": {},
   "outputs": [
    {
     "name": "stdin",
     "output_type": "stream",
     "text": [
      "Enter the value of n to calculate the nth Fibonacci number:  8\n"
     ]
    },
    {
     "name": "stdout",
     "output_type": "stream",
     "text": [
      "The 8 th Fibonacci number is: 21\n"
     ]
    }
   ],
   "source": [
    "#Q37. Develop a program that calculates the nth term of the Fibonacci sequence using memoization.\n",
    "# Create a dictionary to store computed Fibonacci values\n",
    "fibonacci_cache = {}\n",
    "\n",
    "def fibonacci(n):\n",
    "    # Check if the value is already cached\n",
    "    if n in fibonacci_cache:\n",
    "        return fibonacci_cache[n]\n",
    "    \n",
    "    # Calculate Fibonacci number using recursion\n",
    "    if n <= 1:\n",
    "        result = n\n",
    "    else:\n",
    "        result = fibonacci(n - 1) + fibonacci(n - 2)\n",
    "    \n",
    "    # Cache the result before returning\n",
    "    fibonacci_cache[n] = result\n",
    "    return result\n",
    "\n",
    "# Input the desired term 'n'\n",
    "n = int(input(\"Enter the value of n to calculate the nth Fibonacci number: \"))\n",
    "\n",
    "if n < 0:\n",
    "    print(\"Please enter a non-negative integer.\")\n",
    "else:\n",
    "    result = fibonacci(n)\n",
    "    print(\"The\", n, \"th Fibonacci number is:\", result)"
   ]
  },
  {
   "cell_type": "code",
   "execution_count": 3,
   "id": "b51120d9-ad48-4a88-85b3-bd6148c850d3",
   "metadata": {},
   "outputs": [
    {
     "name": "stdin",
     "output_type": "stream",
     "text": [
      "Enter the year:  2004\n",
      "Enter the month (1-12):  8\n"
     ]
    },
    {
     "name": "stdout",
     "output_type": "stream",
     "text": [
      "Calendar for August 2004:\n",
      "\n",
      "    August 2004\n",
      "Mo Tu We Th Fr Sa Su\n",
      "                   1\n",
      " 2  3  4  5  6  7  8\n",
      " 9 10 11 12 13 14 15\n",
      "16 17 18 19 20 21 22\n",
      "23 24 25 26 27 28 29\n",
      "30 31\n",
      "\n"
     ]
    }
   ],
   "source": [
    "#Q.38. Create a program that generates a calendar for a given month and year using conditional statements.\n",
    "import calendar\n",
    "\n",
    "# Input the year and month\n",
    "year = int(input(\"Enter the year: \"))\n",
    "month = int(input(\"Enter the month (1-12): \"))\n",
    "\n",
    "# Validate the input\n",
    "if month < 1 or month > 12:\n",
    "    print(\"Invalid month. Please enter a number between 1 and 12.\")\n",
    "else:\n",
    "    # Generate the calendar for the specified month and year\n",
    "    cal = calendar.month(year, month)\n",
    "    \n",
    "    # Print the calendar\n",
    "    print(f\"Calendar for {calendar.month_name[month]} {year}:\\n\")\n",
    "    print(cal)"
   ]
  },
  {
   "cell_type": "code",
   "execution_count": 9,
   "id": "93887cfe-6396-4245-bbee-f91b8ab4a649",
   "metadata": {},
   "outputs": [
    {
     "name": "stdout",
     "output_type": "stream",
     "text": [
      "Welcome to Text-based Blackjack!\n",
      "\n",
      "Your hand: ['Six', 'Ten']\n",
      "Computer's hand: ['Eight', 'Unknown']\n"
     ]
    },
    {
     "name": "stdin",
     "output_type": "stream",
     "text": [
      "\n",
      "Do you want to 'hit' or 'stand'?  hit\n"
     ]
    },
    {
     "name": "stdout",
     "output_type": "stream",
     "text": [
      "Your hand: ['Six', 'Ten', 'Nine']\n",
      "Bust! You lose.\n",
      "\n",
      "Your hand: ['Six', 'Ten', 'Nine']\n",
      "Computer's hand: ['Eight', 'King']\n",
      "Bust! You lose.\n",
      "Your money: 80\n"
     ]
    },
    {
     "name": "stdin",
     "output_type": "stream",
     "text": [
      "\n",
      "Do you want to play again? (yes/no):  no\n"
     ]
    },
    {
     "name": "stdout",
     "output_type": "stream",
     "text": [
      "Thanks for playing!\n"
     ]
    }
   ],
   "source": [
    "#Q.39. Build a program that simulates a basic text-based blackjack game against the computer.\n",
    "import random\n",
    "\n",
    "# Function to calculate the total value of a hand\n",
    "def calculate_hand_value(hand):\n",
    "    value = sum(hand)\n",
    "    if 11 in hand and value > 21:\n",
    "        hand.remove(11)\n",
    "        hand.append(1)\n",
    "    return value\n",
    "\n",
    "# Initialize the deck and hands\n",
    "suits = ['Hearts', 'Diamonds', 'Clubs', 'Spades']\n",
    "ranks = ['Two', 'Three', 'Four', 'Five', 'Six', 'Seven', 'Eight', 'Nine', 'Ten', 'Jack', 'Queen', 'King', 'Ace']\n",
    "\n",
    "deck = [{'rank': rank, 'suit': suit} for rank in ranks for suit in suits]\n",
    "\n",
    "# Create a function to start a new game\n",
    "def start_game():\n",
    "    player_hand = []\n",
    "    computer_hand = []\n",
    "    player_money = 100  # Starting money for the player\n",
    "\n",
    "    while True:\n",
    "        # Shuffle the deck and deal two cards to each player\n",
    "        random.shuffle(deck)\n",
    "        player_hand = [deck.pop(), deck.pop()]\n",
    "        computer_hand = [deck.pop(), deck.pop()]\n",
    "\n",
    "        # Display the initial hands\n",
    "        print(\"\\nYour hand:\", [card['rank'] for card in player_hand])\n",
    "        print(\"Computer's hand:\", [computer_hand[0]['rank'], \"Unknown\"])\n",
    "\n",
    "        # Ask the player for their move\n",
    "        while True:\n",
    "            choice = input(\"\\nDo you want to 'hit' or 'stand'? \").lower()\n",
    "            if choice in ['hit', 'stand']:\n",
    "                break\n",
    "            else:\n",
    "                print(\"Invalid choice. Please enter 'hit' or 'stand'.\")\n",
    "\n",
    "        # Player's turn\n",
    "        while choice == 'hit':\n",
    "            player_hand.append(deck.pop())\n",
    "            print(\"Your hand:\", [card['rank'] for card in player_hand])\n",
    "            if calculate_hand_value([ranks.index(card['rank']) + 2 for card in player_hand]) > 21:\n",
    "                print(\"Bust! You lose.\")\n",
    "                player_money -= 10  # Player loses 10 units\n",
    "                break\n",
    "            choice = input(\"\\nDo you want to 'hit' or 'stand'? \").lower()\n",
    "\n",
    "        # Computer's turn\n",
    "        while calculate_hand_value([ranks.index(card['rank']) + 2 for card in computer_hand]) < 17:\n",
    "            computer_hand.append(deck.pop())\n",
    "\n",
    "        # Display the final hands\n",
    "        print(\"\\nYour hand:\", [card['rank'] for card in player_hand])\n",
    "        print(\"Computer's hand:\", [card['rank'] for card in computer_hand])\n",
    "\n",
    "        # Determine the winner\n",
    "        player_value = calculate_hand_value([ranks.index(card['rank']) + 2 for card in player_hand])\n",
    "        computer_value = calculate_hand_value([ranks.index(card['rank']) + 2 for card in computer_hand])\n",
    "\n",
    "        if player_value > 21:\n",
    "            print(\"Bust! You lose.\")\n",
    "            player_money -= 10\n",
    "        elif computer_value > 21 or player_value == 21 or (player_value < 21 and player_value > computer_value):\n",
    "            print(\"Congratulations! You win.\")\n",
    "            player_money += 10\n",
    "        elif computer_value == player_value:\n",
    "            print(\"It's a tie.\")\n",
    "        else:\n",
    "            print(\"Computer wins.\")\n",
    "\n",
    "        print(f\"Your money: {player_money}\")\n",
    "        if player_money <= 0:\n",
    "            print(\"You're out of money. Game over!\")\n",
    "            break\n",
    "\n",
    "        play_again = input(\"\\nDo you want to play again? (yes/no): \").lower()\n",
    "        if play_again != 'yes':\n",
    "            print(\"Thanks for playing!\")\n",
    "            break\n",
    "\n",
    "# Start the game\n",
    "print(\"Welcome to Text-based Blackjack!\")\n",
    "start_game()"
   ]
  },
  {
   "cell_type": "code",
   "execution_count": 10,
   "id": "479e5773-9354-45ef-ae82-a8b7b1a478fb",
   "metadata": {},
   "outputs": [
    {
     "name": "stdin",
     "output_type": "stream",
     "text": [
      "Enter a number to find its prime factors:  5\n"
     ]
    },
    {
     "name": "stdout",
     "output_type": "stream",
     "text": [
      "5 is a prime number.\n"
     ]
    }
   ],
   "source": [
    "#Q.40. Write a program that generates the prime factors of a given number using trial division.\n",
    "def prime_factors(n):\n",
    "    factors = []\n",
    "    divisor = 2\n",
    "\n",
    "    while divisor <= n:\n",
    "        if n % divisor == 0:\n",
    "            factors.append(divisor)\n",
    "            n //= divisor\n",
    "        else:\n",
    "            divisor += 1\n",
    "\n",
    "    return factors\n",
    "\n",
    "# Input the number for which you want to find prime factors\n",
    "num = int(input(\"Enter a number to find its prime factors: \"))\n",
    "\n",
    "if num < 2:\n",
    "    print(\"Prime factors are not defined for numbers less than 2.\")\n",
    "else:\n",
    "    factors = prime_factors(num)\n",
    "    if len(factors) == 1 and factors[0] == num:\n",
    "        print(f\"{num} is a prime number.\")\n",
    "    else:\n",
    "        print(f\"Prime factors of {num} are: {factors}\")"
   ]
  },
  {
   "cell_type": "code",
   "execution_count": 11,
   "id": "1c2b344e-702e-4a91-a0f3-b156bc5441d2",
   "metadata": {},
   "outputs": [],
   "source": [
    "#end\n"
   ]
  },
  {
   "cell_type": "code",
   "execution_count": null,
   "id": "29c108cf-30b3-4d1d-b394-9950b71257db",
   "metadata": {},
   "outputs": [],
   "source": []
  }
 ],
 "metadata": {
  "kernelspec": {
   "display_name": "Python 3 (ipykernel)",
   "language": "python",
   "name": "python3"
  },
  "language_info": {
   "codemirror_mode": {
    "name": "ipython",
    "version": 3
   },
   "file_extension": ".py",
   "mimetype": "text/x-python",
   "name": "python",
   "nbconvert_exporter": "python",
   "pygments_lexer": "ipython3",
   "version": "3.10.8"
  }
 },
 "nbformat": 4,
 "nbformat_minor": 5
}
